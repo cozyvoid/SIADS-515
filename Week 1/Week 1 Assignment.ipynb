{
 "cells": [
  {
   "cell_type": "code",
   "execution_count": null,
   "metadata": {},
   "outputs": [],
   "source": [
    "## Question 1\n",
    "Copy the last 5 lines of `assets/ride.csv` into a file called `solution01.txt`."
   ]
  },
  {
   "cell_type": "code",
   "execution_count": null,
   "metadata": {},
   "outputs": [],
   "source": [
    "%%bash\n",
    "\n",
    "tail -n 5 assets/ride.csv > solution01.txt\n",
    "\n",
    "raise NotImplementedError()"
   ]
  },
  {
   "cell_type": "code",
   "execution_count": null,
   "metadata": {},
   "outputs": [],
   "source": [
    "# Question 1, Check 1\n",
    "# 1 point\n",
    "\n",
    "with open('solution01.txt') as ans:\n",
    "    lines = ans.readlines()\n",
    "    \n",
    "assert len(lines) == 5, 'solution file must be 5 lines long'\n",
    "\n",
    "# There are no hidden autograder tests in this cell."
   ]
  },
  {
   "cell_type": "code",
   "execution_count": null,
   "metadata": {},
   "outputs": [],
   "source": [
    "## Question 2\n",
    "\n",
    "Copy lines 15 through 20 from `assets/ride.csv` into a file called `solution02.txt`."
   ]
  },
  {
   "cell_type": "code",
   "execution_count": null,
   "metadata": {},
   "outputs": [],
   "source": [
    "%%bash\n",
    "\n",
    "sed -n '15,20p' assets/ride.csv > solution02.txt\n",
    "\n",
    "raise NotImplementedError()\n"
   ]
  },
  {
   "cell_type": "code",
   "execution_count": null,
   "metadata": {},
   "outputs": [],
   "source": [
    "# Question 2, Check 1\n",
    "# 1 point\n",
    "\n",
    "with open('solution02.txt') as ans:\n",
    "    lines = ans.readlines()\n",
    "\n",
    "assert len(lines) == 6, 'solution file must be 6 lines long'\n",
    "\n",
    "# There are no hidden autograder tests in this cell."
   ]
  },
  {
   "cell_type": "markdown",
   "metadata": {},
   "source": [
    "**Explanation**\n",
    "\n",
    "    sed : stands for stream editor. It's a powerful tool in Unix/Linux for parsing and transforming text from files or pipelines. With sed, you can search, find and replace, insert, delete, and extract text in a variety of ways. It's super useful for batch processing and automating editing tasks without opening a text editor.\n",
    "    \n",
    "    -n : The -n flag in sed suppresses automatic printing of the pattern space. In simpler terms, it tells sed not to output each line by default. Instead, you explicitly tell it which lines to print, like we did with the p command. \n",
    "    \n",
    "    '15,20p': This tells the sed command to print (p) lines 15 through 20 of the file.\n",
    "\n",
    "    assets/ride.csv: This is the input file from which the lines are extracted.\n",
    "\n",
    "    > solution02.txt: This part of the command redirects the extracted lines into a new file called solution02.txt.\n",
    "\n",
    "So, basically, you're taking lines 15 to 20 from assets/ride.csv and saving them directly into solution02.txt."
   ]
  },
  {
   "cell_type": "code",
   "execution_count": null,
   "metadata": {},
   "outputs": [],
   "source": [
    "## Question 3\n",
    "\n",
    "Copy all lines from `assets/ride.csv` that contain \"Data,10\", \"Data,11\", \"Data,12\", or \"Data,13\" into a file called `solution03.txt`. \n",
    "The lines in the solution should be in the same order as they appear in the ride.csv file."
   ]
  },
  {
   "cell_type": "code",
   "execution_count": null,
   "metadata": {},
   "outputs": [],
   "source": [
    "%%bash\n",
    "\n",
    "grep -E \"Data,10|Data,11|Data,12|Data,13\" assets/ride.csv > solution03.txt\n",
    "\n",
    "raise NotImplementedError()"
   ]
  },
  {
   "cell_type": "code",
   "execution_count": null,
   "metadata": {},
   "outputs": [],
   "source": [
    "# Question 3, Check 1\n",
    "# 1 point\n",
    "\n",
    "with open('solution03.txt') as ans:\n",
    "    lines = ans.readlines()\n",
    "\n",
    "assert len(lines) > 1, 'solution file must have more than one line'\n",
    "\n",
    "# There are no hidden autograder tests in this cell."
   ]
  },
  {
   "cell_type": "markdown",
   "metadata": {},
   "source": [
    "**Explanation**\n",
    "This command uses grep with the -E option for extended regular expressions. It searches for lines containing any of the specified patterns and redirects the matching lines into solution03.txt, maintaining their original order. "
   ]
  },
  {
   "cell_type": "code",
   "execution_count": null,
   "metadata": {},
   "outputs": [],
   "source": [
    "## Question 4\n",
    "\n",
    "How many lines in assets/ride.csv contain the string \"Data,9\"?\n",
    "\n",
    "Create a file called solution04.txt that contains answer \n",
    "(this file should have one line, and that should be a number)."
   ]
  },
  {
   "cell_type": "code",
   "execution_count": null,
   "metadata": {},
   "outputs": [],
   "source": [
    "%%bash\n",
    "\n",
    "grep -c \"Data,9\" assets/ride.csv > solution04.txt\n",
    "\n",
    "raise NotImplementedError()"
   ]
  },
  {
   "cell_type": "markdown",
   "metadata": {},
   "source": [
    "**Explanation**\n",
    "    grep -c \"Data,9\" assets/ride.csv: The grep command searches for lines containing the string \"Data,9\" in the file assets/ride.csv. \n",
    "    \n",
    "    The -c flag counts the number of matching lines instead of displaying them.\n",
    "\n",
    "    > solution04.txt: This redirects the count output to a file named solution04.txt.\n",
    "\n",
    "So when you run this command, solution04.txt will contain a single line with a number that represents the count of lines in assets/ride.csv that contain \"Data,9.\" "
   ]
  },
  {
   "cell_type": "markdown",
   "metadata": {},
   "source": [
    "## Three solutions to the same problem...\n",
    "\n",
    "For Question 5, 6, 7, you will create a CSV file for each with the same content based on the data from `assets/ride.csv`. You'll use a different solution for each problem:\n",
    "  - Question 5: with shell commands\n",
    "  - Question 6: with Python (without Pandas)\n",
    "  - Question 7: with Pandas\n",
    "\n",
    "\n",
    "You'll notice that although the `ride.csv` file is a csv file, it looks a bit different than most csv files.  The first few columns are always of the form (using regular expression notation) ```\"(Data|Definition),[\\d]+,record\"```.  After those columns, the data appear as a key-value-unit triple.  For example:\n",
    "\n",
    "```\n",
    "Data,9,record,timestamp,\"896018545\",s,position_lat,\"504719750\",semicircles,position_long,\"-998493490\",semicircles,distance,\"10.87\",m,altitude,\"285.79999999999995\",m,speed,\"1.773\",m/s,unknown,\"3929\",,unknown,\"1002\",,enhanced_altitude,\"285.79999999999995\",m,enhanced_speed,\"1.773\",m/s,,,,,,,,,,,,,,,,,,,,,,,,,,,,,,,\n",
    "```\n",
    "\n",
    "In this case, you have:\n",
    "\n",
    "```\n",
    "timestamp,\"896018545\",s\n",
    "position_lat,\"504719750\",semicircles\n",
    "position_long,\"-998493490\",semicircles\n",
    "speed,\"1.773\",m/s\n",
    "```\n",
    "\n",
    "\n",
    "The data we are interested in comes from the lines in `assets/ride.csv` that start with \"Data,9,record\". \n",
    "\n",
    "For each question, you will create a CSV file with these headers:\n",
    "- `timestamp`\n",
    "- `latitude`\n",
    "- `longitude`\n",
    "- `distance`\n",
    "- `altitude`\n",
    "- `speed`\n",
    "\n",
    "The table below shows the required headers and gives the first row as an example. (Your solution should provide rows for all the entries that match the conditions above.)\n",
    "\n",
    "| timestamp| latitude| longitude| distance|          altitude| speed|\n",
    "|----------|---------|----------|---------|------------------|------|\n",
    "| 896018545|504719750|-998493490|    10.87|285.79999999999995| 1.773|\n",
    "|       ...|      ...|       ...|      ...|               ...|   ...|\n",
    "|       ...|      ...|       ...|      ...|               ...|   ...|"
   ]
  },
  {
   "cell_type": "markdown",
   "metadata": {},
   "source": [
    "##Question 5 - Shell\n",
    "\n",
    "Create a new file that matches the format described above.\n",
    "  - The file should be named `solution05.csv`\n",
    "  - Solve the problem using only Linux shell commands\n",
    "  \n",
    "**A reminder about appending to existing files**: remember that you can append to an existing file with the `>>` operator. This works just like the `>` operator. The difference is:\n",
    "  - `> target_file` will erase the target file before writing to it\n",
    "  - `>> target_file` will append to the target file\n",
    "  \n",
    "You can also do something similar with the tee command:\n",
    "  - `| tee target_file` will erase the target file before writing to it\n",
    "  - `| tee -a target_file` (note the -a flag) will append to the target file"
   ]
  },
  {
   "cell_type": "code",
   "execution_count": null,
   "metadata": {},
   "outputs": [],
   "source": [
    "echo \"timestamp,latitude,longitude,distance,altitude,speed\" > solution05.csv\n",
    "\n",
    "grep -E 'Data,9,record' assets/ride.csv | awk -F, '\n",
    "{\n",
    "    for (i=1; i<=NF; i++) {\n",
    "        if ($i == \"timestamp\") ts=$(i+1);\n",
    "        if ($i == \"position_lat\") lat=$(i+1);\n",
    "        if ($i == \"position_long\") long=$(i+1);\n",
    "        if ($i == \"distance\") dist=$(i+1);\n",
    "        if ($i == \"altitude\") alt=$(i+1);\n",
    "        if ($i == \"speed\") spd=$(i+1);\n",
    "    }\n",
    "    print ts \",\" lat \",\" long \",\" dist \",\" alt \",\" spd;\n",
    "}\n",
    "' >> solution05.csv"
   ]
  },
  {
   "cell_type": "code",
   "execution_count": null,
   "metadata": {},
   "outputs": [],
   "source": [
    "# Question 5, Check 1\n",
    "# 1 point\n",
    "\n",
    "import csv\n",
    "\n",
    "def close_match(a, b):\n",
    "    return round(float(a), 3) == round(float(b), 3)\n",
    "\n",
    "\n",
    "with open('solution05.csv') as ans:\n",
    "    ans_reader = csv.reader(ans, delimiter=',', quotechar='\"')\n",
    "\n",
    "    header = next(ans_reader)\n",
    "    assert header[0] == 'timestamp', 'incorrect header'\n",
    "    assert header[1] == 'latitude', 'incorrect header'\n",
    "    assert header[2] == 'longitude', 'incorrect header'\n",
    "    assert header[3] == 'distance', 'incorrect header'\n",
    "    assert header[4] == 'altitude', 'incorrect header'\n",
    "    assert header[5] == 'speed', 'incorrect header'\n",
    "\n",
    "    first_line = next(ans_reader)\n",
    "    # checks values to three decimal places\n",
    "    assert close_match(first_line[0], 896018545), 'incorrect value'\n",
    "    assert close_match(first_line[1], 504719750), 'incorrect value'\n",
    "    assert close_match(first_line[2], -998493490), 'incorrect value'\n",
    "    assert close_match(first_line[3], 10.87), 'incorrect value'\n",
    "    assert close_match(first_line[4], 285.79999999999995), 'incorrect value'\n",
    "    assert close_match(first_line[5], 1.773), 'incorrect value'\n",
    "\n",
    "# There are no hidden autograder tests in this cell."
   ]
  },
  {
   "cell_type": "markdown",
   "metadata": {},
   "source": [
    "**Explanation**"
   ]
  },
  {
   "cell_type": "code",
   "execution_count": null,
   "metadata": {},
   "outputs": [],
   "source": [
    "## Step 1, Create the csv file with headers\n",
    "echo \"timestamp,latitude,longitude,distance,altitude,speed\" > solution05.csv"
   ]
  },
  {
   "cell_type": "markdown",
   "metadata": {},
   "source": [
    "This command uses echo to create the headers and redirects the output to solution05.csv. The > operator overwrites any existing file, ensuring you start fresh."
   ]
  },
  {
   "cell_type": "code",
   "execution_count": null,
   "metadata": {},
   "outputs": [],
   "source": [
    "## Step 2, Extract and append the relevant data:\n",
    "grep -E 'Data,9,record' assets/ride.csv | awk -F, '\n",
    "{\n",
    "    for (i=1; i<=NF; i++) {\n",
    "        if ($i == \"timestamp\") ts=$(i+1);\n",
    "        if ($i == \"position_lat\") lat=$(i+1);\n",
    "        if ($i == \"position_long\") long=$(i+1);\n",
    "        if ($i == \"distance\") dist=$(i+1);\n",
    "        if ($i == \"altitude\") alt=$(i+1);\n",
    "        if ($i == \"speed\") spd=$(i+1);\n",
    "    }\n",
    "    print ts \",\" lat \",\" long \",\" dist \",\" alt \",\" spd;\n",
    "}\n",
    "' >> solution05.csv"
   ]
  },
  {
   "cell_type": "markdown",
   "metadata": {},
   "source": [
    "\n",
    "    grep -E 'Data,9,record' assets/ride.csv: This command searches for lines in assets/ ride.csv that match the pattern Data,9,record.\n",
    "\n",
    "    awk -F, ...: The awk command processes the lines from the grep output. The -F, option sets the field separator to a comma.\n",
    "\n",
    "Within the awk block:\n",
    "\n",
    "    It iterates through each field (column) in the line.\n",
    "\n",
    "    It checks for specific keywords (timestamp, position_lat, position_long, distance, altitude, speed), captures their values from the following column, and assigns them to variables (ts, lat, long, dist, alt, spd).\n",
    "\n",
    "    After parsing the line, it prints the captured values as a comma-separated string (ts,lat,long,dist,alt,spd).\n",
    "\n",
    "The >> operator appends this output to solution05.csv, ensuring that each relevant line is added without overwriting previous content. "
   ]
  }
 ],
 "metadata": {
  "language_info": {
   "name": "python"
  }
 },
 "nbformat": 4,
 "nbformat_minor": 2
}
