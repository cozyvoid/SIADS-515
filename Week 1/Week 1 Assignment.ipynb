{
 "cells": [
  {
   "cell_type": "code",
   "execution_count": null,
   "metadata": {},
   "outputs": [],
   "source": [
    "## Question 1\n",
    "Copy the last 5 lines of `assets/ride.csv` into a file called `solution01.txt`."
   ]
  },
  {
   "cell_type": "code",
   "execution_count": null,
   "metadata": {},
   "outputs": [],
   "source": [
    "%%bash\n",
    "\n",
    "tail -n 5 assets/ride.csv > solution01.txt  # <---- answer\n",
    "\n",
    "raise NotImplementedError()"
   ]
  },
  {
   "cell_type": "code",
   "execution_count": null,
   "metadata": {},
   "outputs": [],
   "source": [
    "# Question 1, Check 1\n",
    "# 1 point\n",
    "\n",
    "with open('solution01.txt') as ans:\n",
    "    lines = ans.readlines()\n",
    "    \n",
    "assert len(lines) == 5, 'solution file must be 5 lines long'\n",
    "\n",
    "# There are no hidden autograder tests in this cell."
   ]
  },
  {
   "cell_type": "markdown",
   "metadata": {},
   "source": [
    "**Explanation**\n",
    "\n",
    "    tail -n 5 assets/ride.csv: This part uses the tail command to extract the last 5 lines from the assets/ride.csv file. \n",
    "\n",
    "    The -n 5 flag specifies that we want 5 lines.\n",
    "\n",
    "    > solution01.txt: This redirection operator takes the output of the tail command and writes it into a new file called solution01.txt. If solution01.txt already exists, it will be overwritten.\n",
    "\n",
    "So, essentially, this command grabs the last 5 lines from assets/ride.csv and writes them into solution01.txt. "
   ]
  },
  {
   "cell_type": "code",
   "execution_count": null,
   "metadata": {},
   "outputs": [],
   "source": [
    "## Question 2\n",
    "\n",
    "Copy lines 15 through 20 from `assets/ride.csv` into a file called `solution02.txt`."
   ]
  },
  {
   "cell_type": "code",
   "execution_count": null,
   "metadata": {},
   "outputs": [],
   "source": [
    "%%bash\n",
    "\n",
    "sed -n '15,20p' assets/ride.csv > solution02.txt    # <---- answer\n",
    "\n",
    "raise NotImplementedError()\n"
   ]
  },
  {
   "cell_type": "code",
   "execution_count": null,
   "metadata": {},
   "outputs": [],
   "source": [
    "# Question 2, Check 1\n",
    "# 1 point\n",
    "\n",
    "with open('solution02.txt') as ans:\n",
    "    lines = ans.readlines()\n",
    "\n",
    "assert len(lines) == 6, 'solution file must be 6 lines long'\n",
    "\n",
    "# There are no hidden autograder tests in this cell."
   ]
  },
  {
   "cell_type": "markdown",
   "metadata": {},
   "source": [
    "**Explanation**\n",
    "\n",
    "    sed : stands for stream editor. It's a powerful tool in Unix/Linux for parsing and transforming text from files or pipelines. With sed, you can search, find and replace, insert, delete, and extract text in a variety of ways. It's super useful for batch processing and automating editing tasks without opening a text editor.\n",
    "    \n",
    "    -n : The -n flag in sed suppresses automatic printing of the pattern space. In simpler terms, it tells sed not to output each line by default. Instead, you explicitly tell it which lines to print, like we did with the p command. \n",
    "    \n",
    "    '15,20p': This tells the sed command to print (p) lines 15 through 20 of the file.\n",
    "\n",
    "    assets/ride.csv: This is the input file from which the lines are extracted.\n",
    "\n",
    "    > solution02.txt: This part of the command redirects the extracted lines into a new file called solution02.txt.\n",
    "\n",
    "So, basically, you're taking lines 15 to 20 from assets/ride.csv and saving them directly into solution02.txt."
   ]
  },
  {
   "cell_type": "code",
   "execution_count": null,
   "metadata": {},
   "outputs": [],
   "source": [
    "## Question 3\n",
    "\n",
    "Copy all lines from `assets/ride.csv` that contain \"Data,10\", \"Data,11\", \"Data,12\", or \"Data,13\" into a file called `solution03.txt`. \n",
    "The lines in the solution should be in the same order as they appear in the ride.csv file."
   ]
  },
  {
   "cell_type": "code",
   "execution_count": null,
   "metadata": {},
   "outputs": [],
   "source": [
    "%%bash\n",
    "\n",
    "grep -E \"Data,10|Data,11|Data,12|Data,13\" assets/ride.csv > solution03.txt\n",
    "\n",
    "raise NotImplementedError()"
   ]
  },
  {
   "cell_type": "code",
   "execution_count": null,
   "metadata": {},
   "outputs": [],
   "source": [
    "# Question 3, Check 1\n",
    "# 1 point\n",
    "\n",
    "with open('solution03.txt') as ans:\n",
    "    lines = ans.readlines()\n",
    "\n",
    "assert len(lines) > 1, 'solution file must have more than one line'\n",
    "\n",
    "# There are no hidden autograder tests in this cell."
   ]
  },
  {
   "cell_type": "markdown",
   "metadata": {},
   "source": [
    "**Explanation**\n",
    "This command uses grep with the -E option for extended regular expressions. It searches for lines containing any of the specified patterns and redirects the matching lines into solution03.txt, maintaining their original order. "
   ]
  },
  {
   "cell_type": "code",
   "execution_count": null,
   "metadata": {},
   "outputs": [],
   "source": [
    "## Question 4\n",
    "\n",
    "How many lines in assets/ride.csv contain the string \"Data,9\"?\n",
    "\n",
    "Create a file called solution04.txt that contains answer \n",
    "(this file should have one line, and that should be a number)."
   ]
  },
  {
   "cell_type": "code",
   "execution_count": null,
   "metadata": {},
   "outputs": [],
   "source": [
    "%%bash\n",
    "\n",
    "grep -c \"Data,9\" assets/ride.csv > solution04.txt\n",
    "\n",
    "raise NotImplementedError()"
   ]
  },
  {
   "cell_type": "markdown",
   "metadata": {},
   "source": [
    "**Explanation**\n",
    "    grep -c \"Data,9\" assets/ride.csv: The grep command searches for lines containing the string \"Data,9\" in the file assets/ride.csv. \n",
    "    \n",
    "    The -c flag counts the number of matching lines instead of displaying them.\n",
    "\n",
    "    > solution04.txt: This redirects the count output to a file named solution04.txt.\n",
    "\n",
    "So when you run this command, solution04.txt will contain a single line with a number that represents the count of lines in assets/ride.csv that contain \"Data,9.\" "
   ]
  },
  {
   "cell_type": "markdown",
   "metadata": {},
   "source": [
    "## Three solutions to the same problem...\n",
    "\n",
    "For Question 5, 6, 7, you will create a CSV file for each with the same content based on the data from `assets/ride.csv`. You'll use a different solution for each problem:\n",
    "  - Question 5: with shell commands\n",
    "  - Question 6: with Python (without Pandas)\n",
    "  - Question 7: with Pandas\n",
    "\n",
    "\n",
    "You'll notice that although the `ride.csv` file is a csv file, it looks a bit different than most csv files.  The first few columns are always of the form (using regular expression notation) ```\"(Data|Definition),[\\d]+,record\"```.  After those columns, the data appear as a key-value-unit triple.  For example:\n",
    "\n",
    "```\n",
    "Data,9,record,timestamp,\"896018545\",s,position_lat,\"504719750\",semicircles,position_long,\"-998493490\",semicircles,distance,\"10.87\",m,altitude,\"285.79999999999995\",m,speed,\"1.773\",m/s,unknown,\"3929\",,unknown,\"1002\",,enhanced_altitude,\"285.79999999999995\",m,enhanced_speed,\"1.773\",m/s,,,,,,,,,,,,,,,,,,,,,,,,,,,,,,,\n",
    "```\n",
    "\n",
    "In this case, you have:\n",
    "\n",
    "```\n",
    "timestamp,\"896018545\",s\n",
    "position_lat,\"504719750\",semicircles\n",
    "position_long,\"-998493490\",semicircles\n",
    "speed,\"1.773\",m/s\n",
    "```\n",
    "\n",
    "\n",
    "The data we are interested in comes from the lines in `assets/ride.csv` that start with \"Data,9,record\". \n",
    "\n",
    "For each question, you will create a CSV file with these headers:\n",
    "- `timestamp`\n",
    "- `latitude`\n",
    "- `longitude`\n",
    "- `distance`\n",
    "- `altitude`\n",
    "- `speed`\n",
    "\n",
    "The table below shows the required headers and gives the first row as an example. (Your solution should provide rows for all the entries that match the conditions above.)\n",
    "\n",
    "| timestamp| latitude| longitude| distance|          altitude| speed|\n",
    "|----------|---------|----------|---------|------------------|------|\n",
    "| 896018545|504719750|-998493490|    10.87|285.79999999999995| 1.773|\n",
    "|       ...|      ...|       ...|      ...|               ...|   ...|\n",
    "|       ...|      ...|       ...|      ...|               ...|   ...|"
   ]
  },
  {
   "cell_type": "markdown",
   "metadata": {},
   "source": [
    "##Question 5 - Shell\n",
    "\n",
    "Create a new file that matches the format described above.\n",
    "  - The file should be named `solution05.csv`\n",
    "  - Solve the problem using only Linux shell commands\n",
    "  \n",
    "**A reminder about appending to existing files**: remember that you can append to an existing file with the `>>` operator. This works just like the `>` operator. The difference is:\n",
    "  - `> target_file` will erase the target file before writing to it\n",
    "  - `>> target_file` will append to the target file\n",
    "  \n",
    "You can also do something similar with the tee command:\n",
    "  - `| tee target_file` will erase the target file before writing to it\n",
    "  - `| tee -a target_file` (note the -a flag) will append to the target file"
   ]
  },
  {
   "cell_type": "code",
   "execution_count": null,
   "metadata": {},
   "outputs": [],
   "source": [
    "echo \"timestamp,latitude,longitude,distance,altitude,speed\" > solution05.csv\n",
    "\n",
    "grep -E 'Data,9,record' assets/ride.csv | awk -F, '\n",
    "{\n",
    "    for (i=1; i<=NF; i++) {\n",
    "        if ($i == \"timestamp\") ts=$(i+1);\n",
    "        if ($i == \"position_lat\") lat=$(i+1);\n",
    "        if ($i == \"position_long\") long=$(i+1);\n",
    "        if ($i == \"distance\") dist=$(i+1);\n",
    "        if ($i == \"altitude\") alt=$(i+1);\n",
    "        if ($i == \"speed\") spd=$(i+1);\n",
    "    }\n",
    "    print ts \",\" lat \",\" long \",\" dist \",\" alt \",\" spd;\n",
    "}\n",
    "' >> solution05.csv"
   ]
  },
  {
   "cell_type": "code",
   "execution_count": null,
   "metadata": {},
   "outputs": [],
   "source": [
    "# Question 5, Check 1\n",
    "# 1 point\n",
    "\n",
    "import csv\n",
    "\n",
    "def close_match(a, b):\n",
    "    return round(float(a), 3) == round(float(b), 3)\n",
    "\n",
    "\n",
    "with open('solution05.csv') as ans:\n",
    "    ans_reader = csv.reader(ans, delimiter=',', quotechar='\"')\n",
    "\n",
    "    header = next(ans_reader)\n",
    "    assert header[0] == 'timestamp', 'incorrect header'\n",
    "    assert header[1] == 'latitude', 'incorrect header'\n",
    "    assert header[2] == 'longitude', 'incorrect header'\n",
    "    assert header[3] == 'distance', 'incorrect header'\n",
    "    assert header[4] == 'altitude', 'incorrect header'\n",
    "    assert header[5] == 'speed', 'incorrect header'\n",
    "\n",
    "    first_line = next(ans_reader)\n",
    "    # checks values to three decimal places\n",
    "    assert close_match(first_line[0], 896018545), 'incorrect value'\n",
    "    assert close_match(first_line[1], 504719750), 'incorrect value'\n",
    "    assert close_match(first_line[2], -998493490), 'incorrect value'\n",
    "    assert close_match(first_line[3], 10.87), 'incorrect value'\n",
    "    assert close_match(first_line[4], 285.79999999999995), 'incorrect value'\n",
    "    assert close_match(first_line[5], 1.773), 'incorrect value'\n",
    "\n",
    "# There are no hidden autograder tests in this cell."
   ]
  },
  {
   "cell_type": "markdown",
   "metadata": {},
   "source": [
    "**Explanation in Steps**"
   ]
  },
  {
   "cell_type": "code",
   "execution_count": null,
   "metadata": {},
   "outputs": [],
   "source": [
    "## Step 1, Create the csv file with headers\n",
    "echo \"timestamp,latitude,longitude,distance,altitude,speed\" > solution05.csv"
   ]
  },
  {
   "cell_type": "markdown",
   "metadata": {},
   "source": [
    "This command uses echo to create the headers and redirects the output to solution05.csv. \n",
    "The > operator overwrites any existing file, ensuring you start fresh."
   ]
  },
  {
   "cell_type": "code",
   "execution_count": null,
   "metadata": {},
   "outputs": [],
   "source": [
    "## Step 2, Extract and append the relevant data:\n",
    "grep -E 'Data,9,record' assets/ride.csv | awk -F, '\n",
    "{\n",
    "    for (i=1; i<=NF; i++) {\n",
    "        if ($i == \"timestamp\") ts=$(i+1);\n",
    "        if ($i == \"position_lat\") lat=$(i+1);\n",
    "        if ($i == \"position_long\") long=$(i+1);\n",
    "        if ($i == \"distance\") dist=$(i+1);\n",
    "        if ($i == \"altitude\") alt=$(i+1);\n",
    "        if ($i == \"speed\") spd=$(i+1);\n",
    "    }\n",
    "    print ts \",\" lat \",\" long \",\" dist \",\" alt \",\" spd;\n",
    "}\n",
    "' >> solution05.csv"
   ]
  },
  {
   "cell_type": "markdown",
   "metadata": {},
   "source": [
    "\n",
    "    grep -E 'Data,9,record' assets/ride.csv: This command searches for lines in assets/ ride.csv that match the pattern Data,9,record.\n",
    "\n",
    "    awk -F, ...: The awk command processes the lines from the grep output. The -F, option sets the field separator to a comma.\n",
    "\n",
    "Within the awk block:\n",
    "\n",
    "    It iterates through each field (column) in the line.\n",
    "\n",
    "    It checks for specific keywords (timestamp, position_lat, position_long, distance, altitude, speed), captures their values from the following column, and assigns them to variables (ts, lat, long, dist, alt, spd).\n",
    "\n",
    "    After parsing the line, it prints the captured values as a comma-separated string (ts,lat,long,dist,alt,spd).\n",
    "\n",
    "The >> operator appends this output to solution05.csv, ensuring that each relevant line is added without overwriting previous content. "
   ]
  },
  {
   "cell_type": "markdown",
   "metadata": {},
   "source": [
    "## Question 6 - Python without Pandas\n",
    "Create a new file that matches the format described above:\n",
    "\n",
    "The file should be named solution06.csv\n",
    "Don't use any shell or Jupyter magic commands\n",
    "Solve the problem using Python\n",
    "You may use the Python standard library (e.g. the built-in csv package)\n",
    "You may NOT use third-party libraries (e.g. Pandas)"
   ]
  },
  {
   "cell_type": "code",
   "execution_count": null,
   "metadata": {},
   "outputs": [],
   "source": [
    "import csv\n",
    "\n",
    "# Define the output file\n",
    "output_file = 'solution06.csv'\n",
    "\n",
    "# Create and write the headers to the output file\n",
    "with open(output_file, 'w', newline='') as outfile:\n",
    "    writer = csv.writer(outfile)\n",
    "    writer.writerow(['timestamp', 'latitude', 'longitude', 'distance', 'altitude', 'speed'])\n",
    "\n",
    "# Open the input file and process it line by line\n",
    "with open('assets/ride.csv', newline='') as infile:\n",
    "    reader = csv.reader(infile)\n",
    "    for row in reader:\n",
    "        if row[:3] == ['Data', '9', 'record']:\n",
    "            timestamp = row[row.index('timestamp') + 1]\n",
    "            latitude = row[row.index('position_lat') + 1]\n",
    "            longitude = row[row.index('position_long') + 1]\n",
    "            distance = row[row.index('distance') + 1]\n",
    "            altitude = row[row.index('altitude') + 1]\n",
    "            speed = row[row.index('speed') + 1]\n",
    "            \n",
    "            # Write the extracted data to the output file\n",
    "            with open(output_file, 'a', newline='') as outfile:\n",
    "                writer = csv.writer(outfile)\n",
    "                writer.writerow([timestamp, latitude, longitude, distance, altitude, speed])\n",
    "##raise NotImplementedError()"
   ]
  },
  {
   "cell_type": "code",
   "execution_count": null,
   "metadata": {},
   "outputs": [],
   "source": [
    "# Question 6, Check 1\n",
    "# 1 point\n",
    "\n",
    "import csv\n",
    "\n",
    "def close_match(a, b):\n",
    "    return round(float(a), 3) == round(float(b), 3)\n",
    "\n",
    "\n",
    "with open('solution06.csv') as ans:\n",
    "    ans_reader = csv.reader(ans, delimiter=',', quotechar='\"')\n",
    "\n",
    "    header = next(ans_reader)\n",
    "    assert header[0] == 'timestamp', 'incorrect header'\n",
    "    assert header[1] == 'latitude', 'incorrect header'\n",
    "    assert header[2] == 'longitude', 'incorrect header'\n",
    "    assert header[3] == 'distance', 'incorrect header'\n",
    "    assert header[4] == 'altitude', 'incorrect header'\n",
    "    assert header[5] == 'speed', 'incorrect header'\n",
    "\n",
    "    first_line = next(ans_reader)\n",
    "    # checks values to three decimal places\n",
    "    assert close_match(first_line[0], 896018545), 'incorrect value'\n",
    "    assert close_match(first_line[1], 504719750), 'incorrect value'\n",
    "    assert close_match(first_line[2], -998493490), 'incorrect value'\n",
    "    assert close_match(first_line[3], 10.87), 'incorrect value'\n",
    "    assert close_match(first_line[4], 285.79999999999995), 'incorrect value'\n",
    "    assert close_match(first_line[5], 1.773), 'incorrect value'\n",
    "\n",
    "# There are no hidden autograder tests in this cell."
   ]
  },
  {
   "cell_type": "markdown",
   "metadata": {},
   "source": [
    "This script:\n",
    "\n",
    "    Creates solution06.csv and writes the required headers.\n",
    "\n",
    "    Opens and reads assets/ride.csv.\n",
    "\n",
    "    Filters lines that start with Data,9,record and extracts relevant fields.\n",
    "\n",
    "    Writes the extracted fields into solution06.csv."
   ]
  },
  {
   "cell_type": "markdown",
   "metadata": {},
   "source": [
    "## Question 7 - Pandas\n",
    "Create a new file that matches the format described above:\n",
    "\n",
    "The file should be named solution07.csv\n",
    "Don't use any shell or Jupyter magic commands\n",
    "Solve the problem using functionality provided by the Pandas library in Python"
   ]
  },
  {
   "cell_type": "code",
   "execution_count": null,
   "metadata": {},
   "outputs": [],
   "source": [
    "import pandas as pd\n",
    "\n",
    "# Read the CSV file\n",
    "data = pd.read_csv('assets/ride.csv', header=None)\n",
    "\n",
    "# Filter rows starting with 'Data,9,record'\n",
    "filtered_data = data[data.iloc[:, :3].apply(lambda x: x.tolist() == ['Data', '9', 'record'], axis=1)]\n",
    "\n",
    "# Extract the relevant columns\n",
    "timestamps = filtered_data.apply(lambda row: row[row == 'timestamp'].index[0] + 1, axis=1)\n",
    "latitudes = filtered_data.apply(lambda row: row[row == 'position_lat'].index[0] + 1, axis=1)\n",
    "longitudes = filtered_data.apply(lambda row: row[row == 'position_long'].index[0] + 1, axis=1)\n",
    "distances = filtered_data.apply(lambda row: row[row == 'distance'].index[0] + 1, axis=1)\n",
    "altitudes = filtered_data.apply(lambda row: row[row == 'altitude'].index[0] + 1, axis=1)\n",
    "speeds = filtered_data.apply(lambda row: row[row == 'speed'].index[0] + 1, axis=1)\n",
    "\n",
    "# Create the output DataFrame\n",
    "output = pd.DataFrame({\n",
    "    'timestamp': filtered_data.apply(lambda row: row.iloc[timestamps[row.name]], axis=1),\n",
    "    'latitude': filtered_data.apply(lambda row: row.iloc[latitudes[row.name]], axis=1),\n",
    "    'longitude': filtered_data.apply(lambda row: row.iloc[longitudes[row.name]], axis=1),\n",
    "    'distance': filtered_data.apply(lambda row: row.iloc[distances[row.name]], axis=1),\n",
    "    'altitude': filtered_data.apply(lambda row: row.iloc[altitudes[row.name]], axis=1),\n",
    "    'speed': filtered_data.apply(lambda row: row.iloc[speeds[row.name]], axis=1)\n",
    "})\n",
    "\n",
    "# Write to the CSV file\n",
    "output.to_csv('solution07.csv', index=False)\n",
    "##raise NotImplementedError()"
   ]
  },
  {
   "cell_type": "code",
   "execution_count": null,
   "metadata": {},
   "outputs": [],
   "source": [
    "# Question 7, Check 1\n",
    "# 1 point\n",
    "\n",
    "import csv\n",
    "\n",
    "def close_match(a, b):\n",
    "    return round(float(a), 3) == round(float(b), 3)\n",
    "\n",
    "\n",
    "with open('solution07.csv') as ans:\n",
    "    ans_reader = csv.reader(ans, delimiter=',', quotechar='\"')\n",
    "\n",
    "    header = next(ans_reader)\n",
    "    assert header[0] == 'timestamp', 'incorrect header'\n",
    "    assert header[1] == 'latitude', 'incorrect header'\n",
    "    assert header[2] == 'longitude', 'incorrect header'\n",
    "    assert header[3] == 'distance', 'incorrect header'\n",
    "    assert header[4] == 'altitude', 'incorrect header'\n",
    "    assert header[5] == 'speed', 'incorrect header'\n",
    "\n",
    "    first_line = next(ans_reader)\n",
    "    # checks values to three decimal places\n",
    "    assert close_match(first_line[0], 896018545), 'incorrect value'\n",
    "    assert close_match(first_line[1], 504719750), 'incorrect value'\n",
    "    assert close_match(first_line[2], -998493490), 'incorrect value'\n",
    "    assert close_match(first_line[3], 10.87), 'incorrect value'\n",
    "    assert close_match(first_line[4], 285.79999999999995), 'incorrect value'\n",
    "    assert close_match(first_line[5], 1.773), 'incorrect value'\n",
    "\n",
    "# There are no hidden autograder tests in this cell."
   ]
  },
  {
   "cell_type": "markdown",
   "metadata": {},
   "source": [
    "**Explanation in Steps**"
   ]
  },
  {
   "cell_type": "code",
   "execution_count": null,
   "metadata": {},
   "outputs": [],
   "source": [
    "##Step 1, Read the csv file\n",
    "import pandas as pd\n",
    "data = pd.read_csv('assets/ride.csv', header=None)"
   ]
  },
  {
   "cell_type": "markdown",
   "metadata": {},
   "source": [
    "This imports the pandas library and reads the entire assets/ride.csv file into a DataFrame called data. header=None ensures that the first row is not treated as headers."
   ]
  },
  {
   "cell_type": "code",
   "execution_count": null,
   "metadata": {},
   "outputs": [],
   "source": [
    "##Step 2, Filter relevant rows\n",
    "\n",
    "filtered_data = data[data.iloc[:, :3].apply(lambda x: x.tolist() == ['Data', '9', 'record'], axis=1)]"
   ]
  },
  {
   "cell_type": "markdown",
   "metadata": {},
   "source": [
    "This filters the rows to only include those that start with ['Data', '9', 'record']. The iloc[:, :3] selects the first three columns, and the apply function checks if they match the desired pattern."
   ]
  },
  {
   "cell_type": "code",
   "execution_count": null,
   "metadata": {},
   "outputs": [],
   "source": [
    "##Step 3, Extract relevant columns\n",
    "\n",
    "timestamps = filtered_data.apply(lambda row: row[row == 'timestamp'].index[0] + 1, axis=1)\n",
    "latitudes = filtered_data.apply(lambda row: row[row == 'position_lat'].index[0] + 1, axis=1)\n",
    "longitudes = filtered_data.apply(lambda row: row[row == 'position_long'].index[0] + 1, axis=1)\n",
    "distances = filtered_data.apply(lambda row: row[row == 'distance'].index[0] + 1, axis=1)\n",
    "altitudes = filtered_data.apply(lambda row: row[row == 'altitude'].index[0] + 1, axis=1)\n",
    "speeds = filtered_data.apply(lambda row: row[row == 'speed'].index[0] + 1, axis=1)"
   ]
  },
  {
   "cell_type": "markdown",
   "metadata": {},
   "source": [
    "For each filtered row, these lines extract the positions (indexes) of the relevant columns (timestamp, latitude, longitude, distance, altitude, speed). Each column's index is then offset by one to get the actual values."
   ]
  },
  {
   "cell_type": "code",
   "execution_count": null,
   "metadata": {},
   "outputs": [],
   "source": [
    "##Step 4, Create output dataframe\n",
    "\n",
    "output = pd.DataFrame({\n",
    "    'timestamp': filtered_data.apply(lambda row: row.iloc[timestamps[row.name]], axis=1),\n",
    "    'latitude': filtered_data.apply(lambda row: row.iloc[latitudes[row.name]], axis=1),\n",
    "    'longitude': filtered_data.apply(lambda row: row.iloc[longitudes[row.name]], axis=1),\n",
    "    'distance': filtered_data.apply(lambda row: row.iloc[distances[row.name]], axis=1),\n",
    "    'altitude': filtered_data.apply(lambda row: row.iloc[altitudes[row.name]], axis=1),\n",
    "    'speed': filtered_data.apply(lambda row: row.iloc[speeds[row.name]], axis=1)\n",
    "})"
   ]
  },
  {
   "cell_type": "markdown",
   "metadata": {},
   "source": [
    "This creates a new DataFrame called output, with columns for timestamp, latitude, longitude, distance, altitude, and speed. The apply function extracts the corresponding values from the filtered data using the previously calculated indexes."
   ]
  },
  {
   "cell_type": "code",
   "execution_count": null,
   "metadata": {},
   "outputs": [],
   "source": [
    "##Step 5, Write the csv file\n",
    "\n",
    "output.to_csv('solution07.csv', index=False)"
   ]
  },
  {
   "cell_type": "markdown",
   "metadata": {},
   "source": [
    "Finally, this line writes the output DataFrame to solution07.csv, without including row indexes."
   ]
  }
 ],
 "metadata": {
  "language_info": {
   "name": "python"
  }
 },
 "nbformat": 4,
 "nbformat_minor": 2
}
