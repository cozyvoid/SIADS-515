{
 "cells": [
  {
   "cell_type": "markdown",
   "metadata": {},
   "source": [
    "1. Which of these commands can be used for searching operations?\n",
    "\n",
    "    > nano\n",
    "    > ls\n",
    "    - grep\n",
    "    > cat"
   ]
  },
  {
   "cell_type": "markdown",
   "metadata": {},
   "source": [
    "Among the options provided, the command that can be used for searching operations is:\n",
    "\n",
    "- **`grep`**: This command searches for patterns within files. It can be used to find specific text strings in files or outputs.\n",
    "\n",
    "### Analysis of Other Options:\n",
    "\n",
    "- **`nano`**: This is a text editor used for editing files, not for searching.\n",
    "\n",
    "- **`ls`**: This command lists files and directories but does not perform searching within their contents.\n",
    "\n",
    "- **`cat`**: This command concatenates and displays the contents of files but does not search for specific patterns within them.\n",
    "\n",
    "### Conclusion:\n",
    "The correct command for searching operations is **`grep`**."
   ]
  },
  {
   "cell_type": "markdown",
   "metadata": {},
   "source": [
    "2. Which of these commands will list all files in the current directory, their permissions, and their file sizes in a more human-readable format? \n",
    "\n",
    "    > ls\n",
    "    > ls -r -q\n",
    "    - ls -lha\n",
    "    > ls -a"
   ]
  },
  {
   "cell_type": "markdown",
   "metadata": {},
   "source": [
    "To list all files in the current directory along with their permissions and file sizes in a more human-readable format, let's analyze the options you provided:\n",
    "\n",
    "1. **`ls`**: This command lists files in the current directory but does not include permissions or file sizes in a human-readable format.\n",
    "\n",
    "2. **`Is -r -q`**: This appears to be a typo for `ls`. However, assuming it were `ls`, `-r` would sort in reverse order and `-q` would replace non-printable characters with `?`, neither of which addresses permissions or human-readable file sizes.\n",
    "\n",
    "3. **`ls -Iha`**: This is likely another typo. If we interpret it as `ls -lha`, then:\n",
    "   - `-l`: long format (includes permissions and file sizes)\n",
    "   - `-h`: human-readable format (sizes in KB, MB, etc.)\n",
    "   - `-a`: includes hidden files.\n",
    "   This would indeed meet the requirement.\n",
    "\n",
    "4. **`ls -a`**: This command lists all files, including hidden ones, but does not show permissions or sizes.\n",
    "\n",
    "### Conclusion:\n",
    "The command that best fits the requirement is:\n",
    "\n",
    "- **`ls -lha`** (assuming the typo is corrected)."
   ]
  },
  {
   "cell_type": "markdown",
   "metadata": {},
   "source": [
    "3. You find yourself needing to use the command line to install and configure a new program for an upcoming project. You are given some instructions, but repeatedly observe errors about having insufficient privileges to execute the command. What solution would likely resolve the issues?\n",
    "\n",
    "    > Restart your computer\n",
    "    - Try writing “sudo” before the command\n",
    "    > Update your operating system to the newest version available"
   ]
  },
  {
   "cell_type": "markdown",
   "metadata": {},
   "source": [
    "The most likely solution to resolve the issues of insufficient privileges when trying to execute a command is:\n",
    "\n",
    "- **Try writing “sudo” before the command**: This allows you to run the command with elevated privileges (as a superuser), which is often necessary for installation and configuration tasks.\n",
    "\n",
    "### Analysis of Other Options:\n",
    "\n",
    "- **Restart your computer**: This is generally not necessary to resolve permission issues and is unlikely to help in this context.\n",
    "\n",
    "- **Update your operating system to the newest version available**: While keeping your OS updated is good practice, it won't directly resolve permission issues related to executing commands.\n",
    "\n",
    "### Conclusion:\n",
    "Using **`sudo`** before the command is the best approach to address the insufficient privileges error."
   ]
  },
  {
   "cell_type": "markdown",
   "metadata": {},
   "source": [
    "4. Which of the below options best describes the consequences of running the following command: “ls -l *.txt > GoBlue”? \n",
    "\n",
    "    > Lists (in long-form) all contents of the current directory where the filename is any single character and the file extension is .txt, prints this output to the terminal, and copies this output into a file called “GoBlue” - but only if the file already exists\n",
    "    > Lists (in long-form) all contents of the current directory where the file name contains “GoBlue”\n",
    "    - Lists (in long-form) all contents of the current directory ending with .txt, but does not print this to the terminal standard output, and instead writes the output to the file “GoBlue”\n",
    "    > Lists (in long-form) all contents of the current directory where the filename is any single character and the file extension is .txt, prints this output to the terminal, and copies this output into a file called “GoBlue”"
   ]
  },
  {
   "cell_type": "markdown",
   "metadata": {},
   "source": [
    "Let's break down the command `ls -l *.txt > GoBlue`:\n",
    "\n",
    "- **`ls -l`**: This lists the contents of the directory in long format.\n",
    "- **`*.txt`**: This pattern matches all files in the current directory that end with the `.txt` extension.\n",
    "- **`> GoBlue`**: This redirects the output of the command to a file named `GoBlue`. If the file already exists, it will be overwritten.\n",
    "\n",
    "Now, analyzing the options:\n",
    "\n",
    "1. **Lists (in long-form) all contents of the current directory where the filename is any single character and the file extension is .txt, prints this output to the terminal, and copies this output into a file called “GoBlue” - but only if the file already exists**: This is incorrect. The command matches all `.txt` files, not just those with a single character as the filename, and the output is redirected to `GoBlue`, not printed to the terminal.\n",
    "\n",
    "2. **Lists (in long-form) all contents of the current directory where the file name contains “GoBlue”**: This is incorrect. The command does not filter for files named `GoBlue`; it specifically lists `.txt` files.\n",
    "\n",
    "3. **Lists (in long-form) all contents of the current directory ending with .txt, but does not print this to the terminal standard output, and instead writes the output to the file “GoBlue”**: This is correct. The command lists all `.txt` files in long format and writes that output to `GoBlue`, not to the terminal.\n",
    "\n",
    "4. **Lists (in long-form) all contents of the current directory where the filename is any single character and the file extension is .txt, prints this output to the terminal, and copies this output into a file called “GoBlue”**: This is incorrect for the same reason as option 1.\n",
    "\n",
    "### Conclusion:\n",
    "The best description of the consequences of running the command is:\n",
    "\n",
    "- **Lists (in long-form) all contents of the current directory ending with .txt, but does not print this to the terminal standard output, and instead writes the output to the file “GoBlue.”**"
   ]
  },
  {
   "cell_type": "markdown",
   "metadata": {},
   "source": [
    "5. True or False: In addition to passing bash/shell commands directly in our command-line interfaces, we can also use the commands to write programs to automate processes.\n",
    "\n",
    "    - True\n",
    "    > False"
   ]
  },
  {
   "cell_type": "markdown",
   "metadata": {},
   "source": [
    "**True.** \n",
    "\n",
    "    > In addition to passing commands directly in the command-line interface, you can use bash/shell commands to write scripts (programs) that automate processes. These scripts can execute a series of commands in sequence, making it easier to perform repetitive tasks or manage complex workflows."
   ]
  },
  {
   "cell_type": "markdown",
   "metadata": {},
   "source": [
    "6. In your current working directory you see a subdirectory called “DeleteThese” and decide to delete the subdirectory, including all of its contents. You write the command “rm DeleteThese” in your command line. Which of the following best describes what will happen when you run the command?\n",
    "\n",
    "    - The command will detect an error, will not delete the directory specified, and will remind you that DeleteThese is a directory.\n",
    "    > The directory DeleteThese, as well as its contents, will be deleted.\n",
    "    > The directory DeleteThese will be deleted, but because of a missing flag/option, the contents will be copied into the current working directory to avoid accidental file loss."
   ]
  },
  {
   "cell_type": "markdown",
   "metadata": {},
   "source": [
    "When you run the command `rm DeleteThese`, here's what happens:\n",
    "\n",
    "- The `rm` command is used to remove files. However, by default, it does not remove directories unless you specify the `-r` (recursive) option.\n",
    "\n",
    "### Analyzing the Options:\n",
    "\n",
    "1. **The command will detect an error, will not delete the directory specified, and will remind you that DeleteThese is a directory**: This is the correct description. Since `DeleteThese` is a directory and the `rm` command was not issued with the `-r` option, it will return an error indicating that you cannot remove a directory without using the appropriate flag.\n",
    "\n",
    "2. **The directory DeleteThese, as well as its contents, will be deleted**: This is incorrect. Without the `-r` option, `rm` will not delete the directory or its contents.\n",
    "\n",
    "3. **The directory DeleteThese will be deleted, but because of a missing flag/option, the contents will be copied into the current working directory to avoid accidental file loss**: This is also incorrect. The `rm` command does not copy files; it simply removes them. The behavior described does not occur with the `rm` command.\n",
    "\n",
    "### Conclusion:\n",
    "The best description of what will happen is:\n",
    "\n",
    "- **The command will detect an error, will not delete the directory specified, and will remind you that DeleteThese is a directory.**"
   ]
  },
  {
   "cell_type": "markdown",
   "metadata": {},
   "source": [
    "7. You become newly-aware of an arbitrary new command (let’s call it “zoop”) that you’ve gathered would accomplish the task you happen to need executed. Which of the following commands is most likely to present you with some form of documentation for the target command?\n",
    "\n",
    "    - man zoop\n",
    "    > zoop --documentation\n",
    "    > howto “zoop”"
   ]
  },
  {
   "cell_type": "markdown",
   "metadata": {},
   "source": [
    "To find documentation for the command `zoop`, let's analyze each option:\n",
    "\n",
    "1. **`man zoop`**: This command opens the manual page for `zoop`, which is the standard way to access documentation for commands in Unix-like systems. This is likely to provide comprehensive information about how to use the command.\n",
    "\n",
    "2. **`zoop --documentation`**: While this could potentially provide documentation, it depends on whether the `zoop` command supports this option. Not all commands have a `--documentation` flag.\n",
    "\n",
    "3. **`howto “zoop”`**: This command is not a standard command in Unix-like systems. There is typically no built-in command called `howto` for accessing documentation.\n",
    "\n",
    "### Conclusion:\n",
    "The command most likely to present you with some form of documentation for `zoop` is:\n",
    "\n",
    "- **`man zoop`**."
   ]
  },
  {
   "cell_type": "markdown",
   "metadata": {},
   "source": [
    "8. You are currently in a working directory called “data”. Which of the following commands are not equivalent?\n",
    "\n",
    "    -  ls ./..\n",
    "    > ls .././././data/.\n",
    "    > ls ./../data/\n",
    "    > ls ./././././"
   ]
  },
  {
   "cell_type": "markdown",
   "metadata": {},
   "source": [
    "Let's analyze each of the commands in terms of their paths to determine which ones are not equivalent:\n",
    "\n",
    "1. **`ls ./..`**: This command lists the contents of the parent directory of the current directory (`data`).\n",
    "\n",
    "2. **`ls .././././data/.`**: This command also lists the contents of the `data` directory. The `../` moves up to the parent directory, and the `./` references the current directory, which effectively still leads to `data`.\n",
    "\n",
    "3. **`ls ./../data/`**: This command lists the contents of the `data` directory as well. It goes up to the parent directory (`..`) and then back down to `data`.\n",
    "\n",
    "4. **`ls ./././././`**: This command lists the contents of the current directory (`data`). The repeated `./` still points to the current directory.\n",
    "\n",
    "### Conclusion:\n",
    "The commands **`ls ./..`** and **`ls ./././././`** are not equivalent to the others because:\n",
    "\n",
    "- **`ls ./..`** lists the contents of the parent directory of `data`, while the others (`ls .././././data/.`, `ls ./../data/`) list the contents of the `data` directory.\n",
    "\n",
    "Thus, the answer is:\n",
    "\n",
    "- **`ls ./..`** is not equivalent to the other commands."
   ]
  },
  {
   "cell_type": "markdown",
   "metadata": {},
   "source": [
    "9. You’ve just run a program that writes an automated report out to a new file called “Report.txt” You decide that you would like to be able to read through the report in its entirety. Knowing that the report will always be at least 30 lines in length, which of the following commands is unlikely to meet your requirements?\n",
    "\n",
    "    > cat Report.txt\n",
    "    > more Report.txt\n",
    "    > less Report.txt\n",
    "    - tail Report.txt"
   ]
  },
  {
   "cell_type": "markdown",
   "metadata": {},
   "source": [
    "To read through the report in its entirety, let's analyze each of the commands listed:\n",
    "\n",
    "1. **`cat Report.txt`**: This command will display the entire contents of `Report.txt` on the terminal, making it easy to read through.\n",
    "\n",
    "2. **`more Report.txt`**: This command allows you to view the file one screen at a time, but you can scroll through the file until you reach the end. It will also work for a file of at least 30 lines.\n",
    "\n",
    "3. **`less Report.txt`**: Similar to `more`, this command allows you to scroll through the file in both directions and also view the entire content. It is user-friendly for navigating long files.\n",
    "\n",
    "4. **`tail Report.txt`**: This command displays only the last 10 lines of the file by default. Therefore, while it will show you part of the report, it is **unlikely to meet your requirement** of reading through the report in its entirety.\n",
    "\n",
    "### Conclusion:\n",
    "The command that is unlikely to meet your requirements is:\n",
    "\n",
    "- **`tail Report.txt`**."
   ]
  },
  {
   "cell_type": "markdown",
   "metadata": {},
   "source": [
    "10. After listing the contents of your current directory in long-form, you notice an unknown file simply called “X” with a rather large file-size. You decide you would like to investigate the file by viewing the first 30 lines. Which of the following commands achieves this?\n",
    "\n",
    "    > head X\n",
    "    > head 30 X\n",
    "    - head -30 X\n",
    "    > cat x -30"
   ]
  },
  {
   "cell_type": "markdown",
   "metadata": {},
   "source": [
    "To view the first 30 lines of a file called `X`, the correct command is:\n",
    "\n",
    "```bash\n",
    "head -n 30 X\n",
    "```\n",
    "\n",
    "However, since that option isn't listed, let's analyze the provided options:\n",
    "\n",
    "1. **`head X`**: This will display the first 10 lines of the file `X`, not 30.\n",
    "\n",
    "2. **`head 30 X`**: This is **incorrect** syntax. The number should come after the `-n` option to specify how many lines to display.\n",
    "\n",
    "3. **`head -30 X`**: This is also **incorrect**. The correct syntax requires `-n` before the number. The correct form would be `head -n 30 X`.\n",
    "\n",
    "4. **`cat x -30`**: This is invalid syntax and does not accomplish the goal of viewing the first lines of the file.\n",
    "\n",
    "### Conclusion:\n",
    "None of the provided options are correct for displaying the first 30 lines. The correct command is `head -n 30 X`. If you want to view the first 30 lines, you'd need to use that format."
   ]
  },
  {
   "cell_type": "markdown",
   "metadata": {},
   "source": [
    "11. In your current working directory is a file name “.secret_keys” Which of the following is true? \n",
    "\n",
    "    > The output of “ls -lh” will include the file “.secret_keys”\n",
    "    > If you use a graphical user interface to view said directory, “.secret_keys” will be visible\n",
    "    - “.secret_keys” is a hidden file that will ordinarily not be displayed unless using “ls -a”"
   ]
  },
  {
   "cell_type": "markdown",
   "metadata": {},
   "source": [
    "Let's analyze the statements regarding the file `.secret_keys`:\n",
    "\n",
    "1. **The output of “ls -lh” will include the file “.secret_keys”**: This is **false**. The `ls` command, by default, does not display hidden files (those starting with a dot). The `-lh` option will list files in a long format but still won't show hidden files.\n",
    "\n",
    "2. **If you use a graphical user interface to view said directory, “.secret_keys” will be visible**: This is **false** in most file managers by default. Hidden files (those starting with a dot) are typically not displayed unless you specifically enable an option to show hidden files.\n",
    "\n",
    "3. **“.secret_keys” is a hidden file that will ordinarily not be displayed unless using “ls -a”**: This is **true**. In Unix-like systems, files that start with a dot are considered hidden, and using `ls -a` will display all files, including hidden ones.\n",
    "\n",
    "### Conclusion:\n",
    "The true statement is:\n",
    "\n",
    "- **“.secret_keys” is a hidden file that will ordinarily not be displayed unless using “ls -a”.**"
   ]
  },
  {
   "cell_type": "markdown",
   "metadata": {},
   "source": [
    "12. You have a file called “Names.txt” which contains a list of 20,000 names, each stored on a new line. Which of the following will sort all of the names in reverse-order and write this to a new file called “Names_Descending.txt”\n",
    "\n",
    "    > sort “Names.txt” > Names_Descending.txt -r\n",
    "    > Names_Descending.txt | sort -r | Names.txt\n",
    "    - sort -r Names.txt > Names_Descending.txt\n",
    "    > sort Names.txt > Names_Descending.txt"
   ]
  },
  {
   "cell_type": "markdown",
   "metadata": {},
   "source": [
    "To sort the names in `Names.txt` in reverse order and write the output to a new file called `Names_Descending.txt`, the correct command is:\n",
    "\n",
    "```bash\n",
    "sort -r Names.txt > Names_Descending.txt\n",
    "```\n",
    "\n",
    "### Explanation of Each Option:\n",
    "\n",
    "1. **`sort “Names.txt” > Names_Descending.txt -r`**: This is incorrect because the `-r` option is not placed correctly. It should come before the input file.\n",
    "\n",
    "2. **`Names_Descending.txt | sort -r | Names.txt`**: This command is invalid syntax and doesn't accomplish the task of sorting. It doesn't direct input or output correctly.\n",
    "\n",
    "3. **`sort -r Names.txt > Names_Descending.txt`**: This is the correct command. It sorts `Names.txt` in reverse order and redirects the output to `Names_Descending.txt`.\n",
    "\n",
    "4. **`sort Names.txt > Names_Descending.txt`**: This command sorts the names in ascending order (the default behavior), not reverse order.\n",
    "\n",
    "### Conclusion:\n",
    "The correct option is:\n",
    "\n",
    "- **`sort -r Names.txt > Names_Descending.txt`**\n"
   ]
  },
  {
   "cell_type": "markdown",
   "metadata": {},
   "source": [
    "13. You have a file called “VetData.csv” and would like to use the grep command to view lines that correspond with large animals. Which of the following uses of grep is not a valid way to view only VetData.csv lines that include the term “large”\n",
    "\n",
    "    > grep “large” VetData.csv \n",
    "    > grep large VetData.csv\n",
    "    > cat VetData | grep large\n",
    "    - cat VetData | grep -v large"
   ]
  },
  {
   "cell_type": "markdown",
   "metadata": {},
   "source": [
    "Let's analyze each option regarding the use of `grep` to view lines in `VetData.csv` that include the term \"large\":\n",
    "\n",
    "1. **`grep \"large\" VetData.csv`**: This is a valid command. It searches for lines containing \"large\" in `VetData.csv`.\n",
    "\n",
    "2. **`grep large VetData.csv`**: This is also a valid command. It performs the same search as the first one, but without quotes around \"large\".\n",
    "\n",
    "3. **`cat VetData | grep large`**: This command is valid, assuming `VetData` is a file name. It uses `cat` to output the contents of `VetData`, then pipes that output to `grep` to filter for lines containing \"large\". However, if the file is actually `VetData.csv`, the command should be `cat VetData.csv | grep large`.\n",
    "\n",
    "4. **`cat VetData | grep -v large`**: This command is **not valid** for your requirement. The `-v` option inverts the match, meaning it will show all lines that **do not** contain \"large\". This is the opposite of what you want.\n",
    "\n",
    "### Conclusion:\n",
    "The **incorrect option** for viewing lines that include \"large\" is:\n",
    "\n",
    "- **`cat VetData | grep -v large`**"
   ]
  },
  {
   "cell_type": "markdown",
   "metadata": {},
   "source": [
    "14. Your current working directory is a directory called “MADS” and it contains a folder called “Notes”. You decide you would like to create a new file called CommandsList.txt using the touch command, and would like to place it in this “Notes” subdirectory without changing your current working directory. Which of the following will achieve this? What type of filepath should be used?\n",
    "\n",
    "    > “touch Notes/CommandsList.txt”, Absolute Path\n",
    "    - “touch Notes/CommandsList.txt”, Relative Path\n",
    "    > “touch /Notes/CommandsList.txt”, Relative Path\n",
    "    > “touch /Notes/CommandsList.txt”, Absolute Path"
   ]
  },
  {
   "cell_type": "markdown",
   "metadata": {},
   "source": [
    "To create a new file called `CommandsList.txt` in the `Notes` subdirectory from your current working directory (`MADS`), you can use the command:\n",
    "\n",
    "```bash\n",
    "touch Notes/CommandsList.txt\n",
    "```\n",
    "\n",
    "### Explanation of Path Types:\n",
    "\n",
    "- **Relative Path**: This type of path specifies a location relative to your current working directory. Since `Notes` is a subdirectory of your current directory (`MADS`), using `Notes/CommandsList.txt` is a relative path.\n",
    "\n",
    "- **Absolute Path**: This type of path specifies a location starting from the root directory (`/`). An absolute path would typically look like `/home/username/MADS/Notes/CommandsList.txt`, depending on the actual structure of your filesystem.\n",
    "\n",
    "### Correct Option:\n",
    "\n",
    "- **“touch Notes/CommandsList.txt”, Relative Path** is the correct choice.\n",
    "\n",
    "Using the command this way will create the file in the desired location without changing your current directory.\n",
    "\n"
   ]
  },
  {
   "cell_type": "markdown",
   "metadata": {},
   "source": [
    "15. What is the significance of “/” in the context of “cd /”\n",
    "\n",
    "    > The / character represents the current directory.\n",
    "    > The / character represents the most immediate parent directory of the current working directory.\n",
    "    > The / character represents the current directory, in addition to all standard and hidden files it contains.\n",
    "    - The / character represents the system’s outer-most, all-containing directory, also known as the “root” directory."
   ]
  },
  {
   "cell_type": "markdown",
   "metadata": {},
   "source": [
    "In the context of the command `cd /` in Linux, the `/` represents the root directory of the filesystem. When you use this command, you're instructing the shell to change the current working directory to the root of the filesystem hierarchy.\n",
    "\n",
    "Here's a bit more detail on its significance:\n",
    "\n",
    "1. **Root Directory**: The root directory (`/`) is the top-level directory in a Linux filesystem. All other directories and files are organized hierarchically under this root.\n",
    "\n",
    "2. **Navigation**: Using `cd /` allows you to quickly return to the top level of the directory structure from anywhere in the filesystem.\n",
    "\n",
    "3. **Path Structure**: The forward slash (`/`) is also used to separate directory names in paths. For example, `/home/user/documents` refers to the `documents` directory located under `user`, which is under `home`, all starting from the root.\n",
    "\n",
    "Understanding this structure is fundamental for navigating and managing files in a Linux environment."
   ]
  }
 ],
 "metadata": {
  "language_info": {
   "name": "python"
  }
 },
 "nbformat": 4,
 "nbformat_minor": 2
}
