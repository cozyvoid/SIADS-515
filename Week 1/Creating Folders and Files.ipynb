{
 "cells": [
  {
   "cell_type": "markdown",
   "metadata": {},
   "source": [
    "Creating a new directory"
   ]
  },
  {
   "cell_type": "code",
   "execution_count": null,
   "metadata": {
    "vscode": {
     "languageId": "shellscript"
    }
   },
   "outputs": [],
   "source": [
    "mkdir /tmp/tutorial\n",
    "cd /tmp/tutorial"
   ]
  },
  {
   "cell_type": "markdown",
   "metadata": {},
   "source": [
    "Things to notice: \n",
    "\n",
    "    > use of an absolute path to make sure that we create the tutorial directory inside /tmp\n",
    "    > Without the forward slash at the start the mkdir command would try to find a tmp directory inside the current working directory, then try to create a tutorial directory inside that.\n",
    "        - If it couldn’t find a tmp directory the command would fail\n",
    "    > In case you hadn’t guessed, mkdir is short for ‘make directory’\n",
    "    > To check if we are inside our preferred directory (double check with pwd if you’re not certain)"
   ]
  },
  {
   "cell_type": "markdown",
   "metadata": {},
   "source": [
    "For practice, let's create a few subdirectories:"
   ]
  },
  {
   "cell_type": "code",
   "execution_count": null,
   "metadata": {
    "vscode": {
     "languageId": "shellscript"
    }
   },
   "outputs": [],
   "source": [
    "mkdir dir1 dir2 dir3"
   ]
  },
  {
   "cell_type": "markdown",
   "metadata": {},
   "source": [
    "Notice: \n",
    "\n",
    "    > So far, we’ve only seen commands that work on their own (cd, pwd) or that have a single item afterwards (cd /, cd ~/Desktop)\n",
    "    > This time we’ve added three things after the mkdir command (called parameters or arguments) and different commands can accept different numbers of arguments\n",
    "    > mkdir command expects at least one argument\n",
    "    > cd command can work with zero or one, but no more"
   ]
  },
  {
   "cell_type": "markdown",
   "metadata": {},
   "source": [
    "See what happens when you try to pass the wrong number of parameters to a command:"
   ]
  },
  {
   "cell_type": "code",
   "execution_count": null,
   "metadata": {
    "vscode": {
     "languageId": "shellscript"
    }
   },
   "outputs": [],
   "source": [
    "mkdir\n",
    "cd /etc ~/Desktop"
   ]
  },
  {
   "cell_type": "markdown",
   "metadata": {},
   "source": [
    "Back to our new directories. The command above will have created three new subdirectories inside our folder. Let’s take a look at them with the ls (list) command:"
   ]
  },
  {
   "cell_type": "code",
   "execution_count": null,
   "metadata": {
    "vscode": {
     "languageId": "shellscript"
    }
   },
   "outputs": [],
   "source": [
    "ls"
   ]
  },
  {
   "cell_type": "markdown",
   "metadata": {},
   "source": [
    "If you’ve followed the last few commands, your terminal should be looking something like this:"
   ]
  },
  {
   "cell_type": "code",
   "execution_count": null,
   "metadata": {
    "vscode": {
     "languageId": "shellscript"
    }
   },
   "outputs": [],
   "source": [
    "mark@linux-desktop:~$ mkdir /temp/tutorial\n",
    "mark@linux-desktop:~$ cd /tmp/tutorial\n",
    "mark@linux-desktop:/tmp/tutorial$ mkdir dir1 dir2 dir3\n",
    "mark@linux-desktop:/tmp/tutorial$ mkdir\n",
    "mkdir: missing operand\n",
    "Try 'mkdir --help' for more information.\n",
    "mark@linux-desktop:/tmp/tutorial$ cd /etc ~/Desktop\n",
    "bash: cd: too many arguments\n",
    "mark@linux-desktop:/tmp/tutorial$ ls\n",
    "mark@linux-desktop:/tmp/tutorial$ "
   ]
  },
  {
   "cell_type": "markdown",
   "metadata": {},
   "source": [
    "    > Notice that mkdir created all the folders in one directory. \n",
    "    > It didn’t create dir3 inside dir2 inside dir1, or any other nested structure. \n",
    "    > But sometimes it’s handy to be able to do exactly that, and mkdir does have a way:"
   ]
  },
  {
   "cell_type": "code",
   "execution_count": null,
   "metadata": {
    "vscode": {
     "languageId": "shellscript"
    }
   },
   "outputs": [],
   "source": [
    "mkdir -p dir4/dir5/dir6\n",
    "ls"
   ]
  },
  {
   "cell_type": "markdown",
   "metadata": {},
   "source": [
    "    > This time you’ll see that only dir4 has been added to the list, because dir5 is inside it, and dir6 is inside that. \n",
    "\n",
    "Later we’ll install a useful tool to visualise the structure, but you’ve already got enough knowledge to confirm it:"
   ]
  },
  {
   "cell_type": "code",
   "execution_count": null,
   "metadata": {
    "vscode": {
     "languageId": "shellscript"
    }
   },
   "outputs": [],
   "source": [
    "cd dir4\n",
    "ls\n",
    "cd dir5\n",
    "ls\n",
    "cd ../.."
   ]
  },
  {
   "cell_type": "markdown",
   "metadata": {},
   "source": [
    "Take notice:\n",
    "\n",
    "    > “-p” that we used is called an option or a switch (in this case it means “create the parent directories, too”)\n",
    "        - Options are used to modify the way in which a command operates, allowing a single command to behave in a variety of different ways.\n",
    "        - Unfortunately, due to quirks of history and human nature, options can take different forms in different commands.\n",
    "        - You’ll often see them as single characters preceded by a hyphen (as in this case), or as longer words preceded by two hyphens.\n",
    "        - The single character form allows for multiple options to be combined, though not all commands will accept that. \n",
    "        - And to confuse matters further, some commands don’t clearly identify their options at all, whether or not something is an option is dictated purely by the order of the arguments! \n",
    "\n",
    "For example the following all mean exactly the same thing:"
   ]
  },
  {
   "cell_type": "code",
   "execution_count": null,
   "metadata": {
    "vscode": {
     "languageId": "shellscript"
    }
   },
   "outputs": [],
   "source": [
    "# Don't type these in, they're just here for demonstrative purposes\n",
    "mkdir --parents --verbose dir4/dir5\n",
    "mkdir -p --verbose dir4/dir5\n",
    "mkdir -p -v dir4/dir5\n",
    "mkdir -pv dir4/dir5"
   ]
  },
  {
   "cell_type": "markdown",
   "metadata": {},
   "source": [
    "    > Now we know how to create multiple directories just by passing them as separate arguments to the mkdir command. \n",
    "\n",
    "But suppose we want to create a directory with a space in the name?"
   ]
  },
  {
   "cell_type": "code",
   "execution_count": null,
   "metadata": {
    "vscode": {
     "languageId": "shellscript"
    }
   },
   "outputs": [],
   "source": [
    "mkdir another folder\n",
    "ls"
   ]
  },
  {
   "cell_type": "markdown",
   "metadata": {},
   "source": [
    "    > You probably didn’t even need to type that one in to guess what would happen: two new folders, one called another and the other called folder\n",
    "    > If you want to work with spaces in directory or file names, you need to escape them.\n",
    "    > escaping is a computing term that refers to using special codes to tell the computer to treat particular characters differently to normal"
   ]
  },
  {
   "cell_type": "markdown",
   "metadata": {},
   "source": [
    "Enter the following commands to try out different ways to create folders with spaces in the name:"
   ]
  },
  {
   "cell_type": "code",
   "execution_count": null,
   "metadata": {
    "vscode": {
     "languageId": "shellscript"
    }
   },
   "outputs": [],
   "source": [
    "mkdir \"folder 1\"\n",
    "mkdir 'folder 2'\n",
    "mkdir folder\\ 3\n",
    "mkdir \"folder 4\" \"folder 5\"\n",
    "mkdir -p \"folder 6\"/\"folder 7\"\n",
    "ls"
   ]
  },
  {
   "cell_type": "markdown",
   "metadata": {},
   "source": [
    "    > Although the command line can be used to work with files and folders with spaces in their names, the need to escape them with quote marks or backslashes makes things a little more difficult\n",
    "    > You can often tell a person who uses the command line a lot just from their file names: they’ll tend to stick to letters and numbers, and use underscores (“_”) or hyphens (“-”) instead of spaces."
   ]
  },
  {
   "cell_type": "markdown",
   "metadata": {},
   "source": [
    "Creating files using redirection"
   ]
  },
  {
   "cell_type": "markdown",
   "metadata": {},
   "source": [
    "    > Our demonstration folder is starting to look rather full of directories, but is somewhat lacking in files. \n",
    "    > Let’s remedy that by redirecting the output from a command so that, instead of being printed to the screen, it ends up in a new file. First, remind yourself what the ls command is currently showing:"
   ]
  },
  {
   "cell_type": "code",
   "execution_count": null,
   "metadata": {
    "vscode": {
     "languageId": "shellscript"
    }
   },
   "outputs": [],
   "source": [
    "ls"
   ]
  },
  {
   "cell_type": "markdown",
   "metadata": {},
   "source": [
    "    > Suppose we wanted to capture the output of that command as a text file that we can look at or manipulate further. \n",
    "    > All we need to do is to add the greater-than character (“>”) to the end of our command line, followed by the name of the file to write to:"
   ]
  },
  {
   "cell_type": "code",
   "execution_count": null,
   "metadata": {
    "vscode": {
     "languageId": "shellscript"
    }
   },
   "outputs": [],
   "source": [
    "ls > output.txt"
   ]
  },
  {
   "cell_type": "markdown",
   "metadata": {},
   "source": [
    "    > This time there’s nothing printed to the screen, because the output is being redirected to our file instead. \n",
    "    > If you just run ls on its own you should see that the output.txt file has been created. We can use the cat command to look at its content:"
   ]
  },
  {
   "cell_type": "code",
   "execution_count": null,
   "metadata": {
    "vscode": {
     "languageId": "shellscript"
    }
   },
   "outputs": [],
   "source": [
    "cat output.txt"
   ]
  },
  {
   "cell_type": "markdown",
   "metadata": {},
   "source": [
    "    > Okay, so it’s not exactly what was displayed on the screen previously, but it contains all the same data, and it’s in a more useful format for further processing."
   ]
  },
  {
   "cell_type": "markdown",
   "metadata": {},
   "source": [
    "    > Let’s look at another command, echo:"
   ]
  },
  {
   "cell_type": "code",
   "execution_count": null,
   "metadata": {
    "vscode": {
     "languageId": "shellscript"
    }
   },
   "outputs": [],
   "source": [
    "echo \"This is a test\""
   ]
  },
  {
   "cell_type": "markdown",
   "metadata": {},
   "source": [
    "    > echo just prints its arguments back out again (hence the name). \n",
    "    > But combine it with a redirect, and you’ve got a way to easily create small test files:"
   ]
  },
  {
   "cell_type": "code",
   "execution_count": null,
   "metadata": {
    "vscode": {
     "languageId": "shellscript"
    }
   },
   "outputs": [],
   "source": [
    "echo \"This is a test\" > test_1.txt\n",
    "echo \"This is a second test\" > test_2.txt\n",
    "echo \"This is a third test\" > test_3.txt\n",
    "ls"
   ]
  },
  {
   "cell_type": "markdown",
   "metadata": {},
   "source": [
    "    > You should cat each of these files to check their contents. \n",
    "    > But cat is more than just a file viewer - its name comes from ‘concatenate’, meaning “to link together”. \n",
    "    > If you pass more than one filename to cat it will output each of them, one after the other, as a single block of text:"
   ]
  },
  {
   "cell_type": "code",
   "execution_count": null,
   "metadata": {
    "vscode": {
     "languageId": "shellscript"
    }
   },
   "outputs": [],
   "source": [
    "cat test_1.txt test_2.txt test_3.txt"
   ]
  },
  {
   "cell_type": "markdown",
   "metadata": {},
   "source": [
    "    > Where you want to pass multiple file names to a single command, there are some useful shortcuts that can save you a lot of typing if the files have similar names.\n",
    "\n",
    "    > A question mark (“?”) can be used to indicate “any single character” within the file name\n",
    "    > An asterisk (“*”) can be used to indicate “zero or more characters” \n",
    "\n",
    "    >  Also known as “wildcard” characters"
   ]
  },
  {
   "cell_type": "code",
   "execution_count": null,
   "metadata": {
    "vscode": {
     "languageId": "shellscript"
    }
   },
   "outputs": [],
   "source": [
    "cat test_1.txt test_2.txt test_3.txt\n",
    "cat test_?.txt\n",
    "cat test_*"
   ]
  },
  {
   "cell_type": "markdown",
   "metadata": {},
   "source": [
    "**More escaping required**\n",
    "\n",
    "    > As you might have guessed, this capability also means that you need to escape file names with ? or * characters in them, too. \n",
    "    > It’s usually better to avoid any punctuation in file names if you want to manipulate them from the command line."
   ]
  },
  {
   "cell_type": "markdown",
   "metadata": {},
   "source": [
    "    > If you look at the output of ls you’ll notice that the only files or folders that start with “t” are the three test files we’ve just created, so you could even simplify that last command even further to cat t*, meaning “concatenate all the files whose names start with a t and are followed by zero or more other characters”. \n",
    "    > Let’s use this capability to join all our files together into a single new file, then view it:"
   ]
  },
  {
   "cell_type": "code",
   "execution_count": null,
   "metadata": {
    "vscode": {
     "languageId": "shellscript"
    }
   },
   "outputs": [],
   "source": [
    "cat t* > combined.txt\n",
    "cat combined.txt"
   ]
  },
  {
   "cell_type": "markdown",
   "metadata": {},
   "source": [
    "    > What do you think will happen if we run those two commands a second time? Will the computer complain, because the file already exists? Will it append the text to the file, so it contains two copies? Or will it replace it entirely? \n",
    "    > Give it a try to see what happens, but to avoid typing the commands again you can use the Up Arrow and Down Arrow keys to move back and forth through the history of commands you’ve used. \n",
    "    > Press the Up Arrow a couple of times to get to the first cat and press Enter to run it, then do the same again to get to the second."
   ]
  },
  {
   "cell_type": "markdown",
   "metadata": {},
   "source": [
    "    > As you can see, the file looks the same. That’s not because it’s been left untouched, but because the shell clears out all the content of the file before it writes the output of your cat command into it. \n",
    "    > Because of this, you should be extra careful when using redirection to make sure that you don’t accidentally overwrite a file you need. \n",
    "    > If you do want to append to, rather than replace, the content of the files, double up on the greater-than character:"
   ]
  },
  {
   "cell_type": "code",
   "execution_count": null,
   "metadata": {
    "vscode": {
     "languageId": "shellscript"
    }
   },
   "outputs": [],
   "source": [
    "cat t* >> combined.txt\n",
    "echo \"I've appended a line!\" >> combined.txt\n",
    "cat combined.txt"
   ]
  },
  {
   "cell_type": "markdown",
   "metadata": {},
   "source": [
    "    > Repeat the first cat a few more times, using the Up Arrow for convenience, and perhaps add a few more arbitrary echo commands, until your text document is so large that it won’t all fit in the terminal at once when you use cat to display it. \n",
    "    > In order to see the whole file we now need to use a different program, called a pager (because it displays your file one “page” at a time). \n",
    "    > The standard pager of old was called more, because it puts a line of text at the bottom of each page that says “–More–” to indicate that you haven’t read everything yet. \n",
    "    > These days there’s a far better pager that you should use instead: because it replaces more, the programmers decided to call it less."
   ]
  },
  {
   "cell_type": "code",
   "execution_count": null,
   "metadata": {
    "vscode": {
     "languageId": "shellscript"
    }
   },
   "outputs": [],
   "source": [
    "less combined.txt"
   ]
  },
  {
   "cell_type": "markdown",
   "metadata": {},
   "source": [
    "    > When viewing a file through less you can use the Up Arrow, Down Arrow, Page Up, Page Down, Home and End keys to move through your file. > Give them a try to see the difference between them. \n",
    "    > When you’ve finished viewing your file, press q to quit less and return to the command line."
   ]
  },
  {
   "cell_type": "markdown",
   "metadata": {},
   "source": [
    "**A note about case**"
   ]
  },
  {
   "cell_type": "markdown",
   "metadata": {},
   "source": [
    "    > Unix systems are case-sensitive, that is, they consider “A.txt” and “a.txt” to be two different files. \n",
    "    > If you were to run the following lines you would end up with three files:"
   ]
  },
  {
   "cell_type": "code",
   "execution_count": null,
   "metadata": {
    "vscode": {
     "languageId": "shellscript"
    }
   },
   "outputs": [],
   "source": [
    "echo \"Lower case\" > a.txt\n",
    "echo \"Upper case\" > A.TXT\n",
    "echo \"Mixed case\" > A.txt"
   ]
  },
  {
   "cell_type": "markdown",
   "metadata": {},
   "source": [
    "    > try to avoid creating files and folders whose name only varies by case (can avoid confusion and prevent problems w/ different operating systems\n",
    "        - Windows, for example, is case-insensitive, so it would treat all three of the file names above as being a single file, potentially causing data loss or other problems."
   ]
  },
  {
   "cell_type": "markdown",
   "metadata": {},
   "source": [
    "    > vast majority of shell commands are lower case\n",
    "    > Most seasoned command line users tend to stick primarily to lower case names for their files and directories so that they rarely have to worry about file name clashes, or which case to use for each letter in the name."
   ]
  },
  {
   "cell_type": "markdown",
   "metadata": {},
   "source": [
    "**Good naming practice**\n",
    "\n",
    "    > When you consider both case sensitivity and escaping, a good rule of thumb is to keep your file names all lower case, with only letters, numbers, underscores and hyphens. \n",
    "    > For files there’s usually also a dot and a few characters on the end to indicate the type of file it is (referred to as the “file extension”). This guideline may seem restrictive, but if you end up using the command line with any frequency you’ll be glad you stuck to this pattern."
   ]
  }
 ],
 "metadata": {
  "language_info": {
   "name": "python"
  }
 },
 "nbformat": 4,
 "nbformat_minor": 2
}
