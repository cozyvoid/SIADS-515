{
 "cells": [
  {
   "cell_type": "markdown",
   "metadata": {},
   "source": [
    "Iterators and Iterables in Python:\n",
    "\n",
    "    Definition of Iteration: \n",
    "    > Explained as the process of traversing a series of objects, typically via a for loop in Python.\n",
    "    Difference between Iterable and Iterator:\n",
    "    > An iterable object implements the __iter__() method.\n",
    "\n",
    "An iterator implements both __iter__() and __next__() methods.\n",
    "\n",
    "Creating and Using Iterators:\n",
    "    \n",
    "    Example of iterating through a list of numbers using a for loop.\n",
    "    Explanation of using iter() to get an iterator from an iterable and next() to access elements in the iterator.\n",
    "    Demonstrated what happens when the iterator exceeds its bounds, raising a StopIteration exception.\n",
    "\n",
    "Detailed Example of Iterators:\n",
    "\n",
    "    - A practical example step-by-step, using a list of years, to show how next() functions and handles exceptions when all elements are consumed.\n",
    "    > Explanation of Python's for loop as a while loop with an iterator, demonstrating how the loop manages and processes elements.\n",
    "\n",
    "Developing an Iterable Class:\n",
    "\n",
    "    Class Definition:\n",
    "    > Defined a Python class called Decades, implementing iterable behavior.\n",
    "\n",
    "Implemented __iter__() to return the object itself, making it iterable.\n",
    "\n",
    "Implemented __next__() method to calculate and return the decade of a given year using floor division.\n",
    "\n",
    "Error Handling:\n",
    "\n",
    "    > Discussed how the class raises StopIteration when no more elements are available.\n",
    "\n",
    "Practical Exercise:\n",
    "\n",
    "    > Demonstrated how to utilize the Decades class in a Jupyter Notebook.\n",
    "    > Examples of instantiating the Decades class, invoking the iterator, and handling the StopIteration exception.\n",
    "\n",
    "Additional Discussions:\n",
    "\n",
    "    > Briefly mentioned plans to discuss decorators, caching, and memoization in future sessions, specifically clarifying the term \"memoization\".\n",
    "    > This content is structured to deepen understanding of Python iterators and iterables, providing clear differentiation between concepts and showcasing practical usage within a Python environment."
   ]
  }
 ],
 "metadata": {
  "language_info": {
   "name": "python"
  }
 },
 "nbformat": 4,
 "nbformat_minor": 2
}
