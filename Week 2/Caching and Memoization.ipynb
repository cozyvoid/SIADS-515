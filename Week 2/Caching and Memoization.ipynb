{
 "cells": [
  {
   "cell_type": "markdown",
   "metadata": {},
   "source": [
    "Introduction to the Fibonacci Sequence:\n",
    "\n",
    "    > The Fibonacci sequence is introduced, defined by the pattern where each number is the sum of the previous two, starting with 0 and 1.\n",
    "    > The sequence progresses as 0, 1, 1, 2, 3, 5, 8, 13, etc.\n",
    "\n",
    "Definition and Timing of Recursive Fibonacci Function:\n",
    "    \n",
    "    The Fibonacci function is defined using recursion:\n",
    "\n",
    "    If ( n = 0 ), return 0.\n",
    "    If ( n = 1 ), return 1.\n",
    "\n",
    "> Otherwise, return Fibonacci value of ( n-1 ) plus Fibonacci of ( n-2 ).\n",
    "\n",
    "The timing of calculations:\n",
    "\n",
    "    > Fibonacci of 12 takes approximately 68.6 microseconds.\n",
    "    > Fibonacci of 22 takes much longer at 8.39 milliseconds, demonstrating a performance issue as ( n ) increases.\n",
    "\n",
    "Caching and Memoization:\n",
    "\n",
    "    > Caching is described as storing previously computed results to improve performance, commonly used in web technologies.\n",
    "    > Memoization is introduced as a specific type of caching:\n",
    "        > A function is wrapped in a memoize function which maintains a cache.\n",
    "        > If current arguments exist in the cache, return the cached result.\n",
    "    > If not, compute the result, cache it, then return it.\n",
    "\n",
    "Implementing Memoization:\n",
    "    \n",
    "    > A memoize function is described, using a dictionary cache to store results.\n",
    "\n",
    "    Steps:\n",
    "    1. Define a memoize function that wraps another function.\n",
    "    2. Check the cache for arguments; if found, return cached values; otherwise, compute and cache the result.\n",
    "\n",
    "Memoized Fibonacci Function:\n",
    "\n",
    "    > A new function, memoized_fibonacci, is created to use the memoized wrapper.\n",
    "    > Gains in efficiency are noted with the timing of Fibonacci(32), showing extensive caching benefits.\n",
    "\n",
    "Observations on Performance and Efficiency:\n",
    "\n",
    "    > The performance improvement between non-memoized and memoized versions is noted.\n",
    "    > The discrepancy in time taken for lower and higher recursive calls indicates shortcut by caching intermediate results.\n",
    "    > The memoized function operates more efficiently but only at the outer level, suggesting further optimization is possible using decorators.\n",
    "\n",
    "Additional Notes:\n",
    "\n",
    "    > By utilizing Python decorators, the memoization process can be elegantly extended to handle inner recursive calls more efficiently.\n",
    "    > The presented examples demonstrate how repeated calculations in recursive functions can be dramatically optimized with memoization."
   ]
  }
 ],
 "metadata": {
  "language_info": {
   "name": "python"
  }
 },
 "nbformat": 4,
 "nbformat_minor": 2
}
