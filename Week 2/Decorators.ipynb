{
 "cells": [
  {
   "cell_type": "markdown",
   "metadata": {},
   "source": [
    "1. Decorators in Python:\n",
    "\n",
    "    > Definition and Role: A decorator is a function that takes another function as an argument and extends its behavior without modifying it directly. Decorators allow for separation of concerns and code reusability.\n",
    "    > Null Decorator: The simplest form of a decorator which does nothing. Demonstrated using a function hello that simply returns \"hello\".\n",
    "    > Emphasize Decorator: A more complex decorator example is provided which adds emphasis tags to the output of a given function. The decorator wraps around the original function modifying its return value with <em> and </em> HTML tags.\n",
    "\n",
    "2. Using Decorators with Functions Having Parameters:\n",
    "    > Function with Parameters: Demonstrated with a multilingual_hello function that returns greetings in different languages based on a parameter (lang).\n",
    "    > Adapting Decorators for Parameters: Initial attempts with the emphasize decorator fail when passing parameters. Adjustments are made using *args and **kwargs to handle arguments dynamically.\n",
    "    > Example Execution: Showcases how to use these decorators with the multilingual function to modify its output while respecting its parameters.\n",
    "\n",
    "3. Introduction to functools and LRU Cache:\n",
    "    > Functools Overview: Introduces functools, a Python module providing higher-order functions and operations on callable objects.\n",
    "    > LRU Cache: Focused on LRU_CACHE, which stands for Least Recently Used Cache. It is a decorator that efficiently manages a cache by keeping only the most recently accessed elements up to a given size.\n",
    "    > Applying LRU Cache to Fibonacci: Demonstrates using functools.lru_cache to optimize Fibonacci sequence calculations, resulting in significant time savings by caching results of earlier calculations.\n",
    "\n",
    "4. Application and Timing of Decorators:\n",
    "    > Performance Enhancement: The use of LRU_CACHE drastically reduces the computation time of Fibonacci numbers by caching and reusing previously computed results.\n",
    "    > Timing Results: Using the timeit module to benchmark the speed of Fibonacci function calls shows consistent execution times, indicating efficient caching."
   ]
  }
 ],
 "metadata": {
  "language_info": {
   "name": "python"
  }
 },
 "nbformat": 4,
 "nbformat_minor": 2
}
