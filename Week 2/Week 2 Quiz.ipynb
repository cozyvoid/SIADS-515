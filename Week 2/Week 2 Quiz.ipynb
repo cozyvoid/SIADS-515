{
 "cells": [
  {
   "cell_type": "markdown",
   "metadata": {},
   "source": [
    "1. The special methods required of an object to be an iterable in Python are Object.__iter__() and Object.__next__()\n",
    "\n",
    "    > True\n",
    "    - False"
   ]
  },
  {
   "cell_type": "markdown",
   "metadata": {},
   "source": [
    "2. Which of the following is not true of iterables in Python?\n",
    "\n",
    "    > For-loops automatically progress through iterables until entirely iterated through\n",
    "    - Iterators must eventually exhaust / terminate\n",
    "    > Iterators end when StopIteration is raised\n"
   ]
  },
  {
   "cell_type": "markdown",
   "metadata": {},
   "source": [
    "3. A function can be turned into a generator by swapping the keyword “return” with the keyword “yield”\n",
    "\n",
    "    - True\n",
    "    > False"
   ]
  },
  {
   "cell_type": "markdown",
   "metadata": {},
   "source": [
    "4. Given the list “Numbs = [5,10,15,20]”, which of the following expressions is a generator expression to add 3 to each value in the original list? \n",
    "\n",
    "    > [N+3 for N in Numbs]\n",
    "    - (N+3 for N in Numbs)\n",
    "    > {N+3 for N in Numbs}\n",
    "    > Generators do confirm to such an expression syntax"
   ]
  },
  {
   "cell_type": "markdown",
   "metadata": {},
   "source": [
    "5. A generators expression, like a list expression, stores a list object in memory and then returns one element at a time when invoked to do so.\n",
    "\n",
    "    > True\n",
    "    - False"
   ]
  },
  {
   "cell_type": "markdown",
   "metadata": {},
   "source": [
    "6. Which of the following is NOT true of generators in Python?\n",
    "\n",
    "    > An instantiated generator “remembers where it left off” without any additional implementation requirements\n",
    "    > They are an efficient way to avoid storing large sequences in memory directly\n",
    "    > They are easily iterated upon and implement the special methods .__next__() and .__iter__() automatically\n",
    "    - Generators have the same useful methods as lists, including .sort(), .reverse(), and .count()\n"
   ]
  },
  {
   "cell_type": "markdown",
   "metadata": {},
   "source": [
    "7. Which of the following are advantages of caching? (Select all that apply)\n",
    "\n",
    "    - Accessing locally-cached data is faster than recomputing for data or making web requests for data\n",
    "    - Using locally-cached data from API / web requests avoids need for unnecessary requests \n",
    "    - Cached data can be used to reproduce circumstances to aid debugging\n",
    "    > Cached data always represents the current state of the data"
   ]
  },
  {
   "cell_type": "markdown",
   "metadata": {},
   "source": [
    "8. Memoization is the practice of caching data from computationally-expensive operations.\n",
    "\n",
    "    - True\n",
    "    > False"
   ]
  },
  {
   "cell_type": "markdown",
   "metadata": {},
   "source": [
    "9. Only one decorator can be applied to a function in Python.\n",
    "\n",
    "    > True\n",
    "    - False"
   ]
  },
  {
   "cell_type": "markdown",
   "metadata": {},
   "source": [
    "10. Decorators in Python have a distinctive syntax when being applied to a function, signified by what character preceding the name of the decorator?\n",
    "\n",
    "    - @\n",
    "    > &\n",
    "    > #\n",
    "    > $^"
   ]
  },
  {
   "cell_type": "markdown",
   "metadata": {},
   "source": [
    "11. Which of the following are examples of memoization? (Select all that apply)\n",
    "\n",
    "    > Caching data scraped from a website\n",
    "    - Caching computed factorial calculations\n",
    "    - Caching computed Fibonacci sequence calculations\n",
    "    > Caching data from Twitter API calls\n"
   ]
  }
 ],
 "metadata": {
  "language_info": {
   "name": "python"
  }
 },
 "nbformat": 4,
 "nbformat_minor": 2
}
