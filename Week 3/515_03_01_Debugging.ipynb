{
 "cells": [
  {
   "cell_type": "markdown",
   "metadata": {},
   "source": [
    "# Debugging"
   ]
  },
  {
   "cell_type": "markdown",
   "metadata": {},
   "source": [
    "## Syntax Errors"
   ]
  },
  {
   "cell_type": "markdown",
   "metadata": {},
   "source": [
    "Given two lists, one of people's names and another of their scores, create a list of tuples such that for each person you have a tuple of their name and their score.\n",
    "\n",
    "You might come up with a solution that looks like:"
   ]
  },
  {
   "cell_type": "code",
   "execution_count": 1,
   "metadata": {},
   "outputs": [],
   "source": [
    "names = ['a','b','c','d','e']\n",
    "scores = [90,76,55,82,88]"
   ]
  },
  {
   "cell_type": "code",
   "execution_count": 2,
   "metadata": {
    "scrolled": true
   },
   "outputs": [
    {
     "data": {
      "text/plain": [
       "[('a', 90), ('b', 76), ('c', 55), ('d', 82), ('e', 88)]"
      ]
     },
     "execution_count": 2,
     "metadata": {},
     "output_type": "execute_result"
    }
   ],
   "source": [
    "people_and_scores = []\n",
    "for i in range(len(names)):\n",
    "    people_and_scores.append((names[i],scores[i]))\n",
    "people_and_scores\n",
    "    "
   ]
  },
  {
   "cell_type": "markdown",
   "metadata": {},
   "source": [
    "There's a better way of doing it:  the zip command"
   ]
  },
  {
   "cell_type": "markdown",
   "metadata": {},
   "source": [
    "Let's take a look at the documentation for the zip command:\n",
    "https://docs.python.org/3.5/library/functions.html#zip\n",
    "Hmmmmm.  Not all that useful, so let's try it out:"
   ]
  },
  {
   "cell_type": "code",
   "execution_count": 3,
   "metadata": {},
   "outputs": [
    {
     "data": {
      "text/plain": [
       "<zip at 0x70ff08176e80>"
      ]
     },
     "execution_count": 3,
     "metadata": {},
     "output_type": "execute_result"
    }
   ],
   "source": [
    "zip(names,scores)"
   ]
  },
  {
   "cell_type": "code",
   "execution_count": 4,
   "metadata": {
    "scrolled": true
   },
   "outputs": [
    {
     "name": "stdout",
     "output_type": "stream",
     "text": [
      "('a', 90)\n",
      "('b', 76)\n",
      "('c', 55)\n",
      "('d', 82)\n",
      "('e', 88)\n"
     ]
    }
   ],
   "source": [
    "for i in zip(names,scores):\n",
    "    print(i)"
   ]
  },
  {
   "cell_type": "code",
   "execution_count": 5,
   "metadata": {},
   "outputs": [
    {
     "data": {
      "text/plain": [
       "[('a', 90), ('b', 76), ('c', 55), ('d', 82), ('e', 88)]"
      ]
     },
     "execution_count": 5,
     "metadata": {},
     "output_type": "execute_result"
    }
   ],
   "source": [
    "people_and_scores2 = []\n",
    "for i in zip(names,scores):\n",
    "    people_and_scores2.append(i)\n",
    "people_and_scores2"
   ]
  },
  {
   "cell_type": "code",
   "execution_count": 6,
   "metadata": {},
   "outputs": [
    {
     "data": {
      "text/plain": [
       "[('a', 90), ('b', 76), ('c', 55), ('d', 82), ('e', 88)]"
      ]
     },
     "execution_count": 6,
     "metadata": {},
     "output_type": "execute_result"
    }
   ],
   "source": [
    "people_and_scores3 = list(zip(names,scores))\n",
    "people_and_scores3"
   ]
  },
  {
   "cell_type": "markdown",
   "metadata": {},
   "source": [
    "Ok, but let's say you had a structure that looks like people_and_scores and you wanted to extract just the names.  How would you do that?"
   ]
  },
  {
   "cell_type": "code",
   "execution_count": 7,
   "metadata": {},
   "outputs": [
    {
     "data": {
      "text/plain": [
       "['a', 'b', 'c', 'd', 'e']"
      ]
     },
     "execution_count": 7,
     "metadata": {},
     "output_type": "execute_result"
    }
   ],
   "source": [
    "names = []\n",
    "for i in people_and_scores:\n",
    "    names.append(i[0])\n",
    "names\n",
    "    "
   ]
  },
  {
   "cell_type": "markdown",
   "metadata": {},
   "source": [
    "Back to our documentation:\n",
    "https://docs.python.org/3.5/library/functions.html#zip"
   ]
  },
  {
   "cell_type": "markdown",
   "metadata": {},
   "source": [
    "There's a blurb there about\n",
    "> zip() in conjunction with the * operator can be used to unzip a list:\n",
    "\n",
    "followed by a code example:\n",
    "\n",
    "```\n",
    ">>> x = [1, 2, 3]\n",
    ">>> y = [4, 5, 6]\n",
    ">>> zipped = zip(x, y)\n",
    ">>> list(zipped)\n",
    "[(1, 4), (2, 5), (3, 6)]\n",
    ">>> x2, y2 = zip(*zip(x, y))\n",
    ">>> x == list(x2) and y == list(y2)\n",
    "True\n",
    "```"
   ]
  },
  {
   "cell_type": "markdown",
   "metadata": {},
   "source": [
    "Google for \"python zip explained\", get\n",
    "https://stackoverflow.com/questions/19339/transpose-unzip-function-inverse-of-zip#19343"
   ]
  },
  {
   "cell_type": "code",
   "execution_count": 8,
   "metadata": {},
   "outputs": [
    {
     "data": {
      "text/plain": [
       "['a', 'b', 'c', 'd', 'e']"
      ]
     },
     "execution_count": 8,
     "metadata": {},
     "output_type": "execute_result"
    }
   ],
   "source": [
    "list(list(zip(*people_and_scores))[0])"
   ]
  },
  {
   "cell_type": "markdown",
   "metadata": {},
   "source": [
    "Note also, however, that there's a link that talks about using generators:\n",
    "\n",
    "https://stackoverflow.com/questions/30805000/how-to-unzip-an-iterator\n"
   ]
  },
  {
   "cell_type": "code",
   "execution_count": 9,
   "metadata": {},
   "outputs": [],
   "source": [
    "import itertools"
   ]
  },
  {
   "cell_type": "code",
   "execution_count": 10,
   "metadata": {},
   "outputs": [],
   "source": [
    "names,scores = itertools.tee(people_and_scores)"
   ]
  },
  {
   "cell_type": "code",
   "execution_count": 11,
   "metadata": {},
   "outputs": [
    {
     "data": {
      "text/plain": [
       "<itertools._tee at 0x70ff08121240>"
      ]
     },
     "execution_count": 11,
     "metadata": {},
     "output_type": "execute_result"
    }
   ],
   "source": [
    "names"
   ]
  },
  {
   "cell_type": "code",
   "execution_count": 12,
   "metadata": {},
   "outputs": [
    {
     "name": "stdout",
     "output_type": "stream",
     "text": [
      "('a', 90) <class 'tuple'>\n",
      "('b', 76) <class 'tuple'>\n",
      "('c', 55) <class 'tuple'>\n",
      "('d', 82) <class 'tuple'>\n",
      "('e', 88) <class 'tuple'>\n"
     ]
    }
   ],
   "source": [
    "for n in names:\n",
    "    print(n,type(n))"
   ]
  },
  {
   "cell_type": "code",
   "execution_count": 13,
   "metadata": {},
   "outputs": [],
   "source": [
    "names = (x[0] for x in names)"
   ]
  },
  {
   "cell_type": "code",
   "execution_count": 14,
   "metadata": {},
   "outputs": [],
   "source": [
    "for n in names:\n",
    "    print(n,type(n))"
   ]
  },
  {
   "cell_type": "code",
   "execution_count": 15,
   "metadata": {
    "scrolled": true
   },
   "outputs": [],
   "source": [
    "for i in names:\n",
    "    print(i)"
   ]
  },
  {
   "cell_type": "markdown",
   "metadata": {},
   "source": [
    "Ok, let's try this again.\n",
    "\n",
    "### Top-level goal:  to create a list of (lat, lon) tuples where lat is between X and Y\n",
    "\n",
    "We're going to read a file efficiently using a generator:\n"
   ]
  },
  {
   "cell_type": "code",
   "execution_count": 16,
   "metadata": {},
   "outputs": [],
   "source": [
    "filename = 'data/ride_final2.csv'"
   ]
  },
  {
   "cell_type": "code",
   "execution_count": 17,
   "metadata": {},
   "outputs": [],
   "source": [
    "def read_lat_and_lon_by_line(filename):\n",
    "    with open(filename) as f:\n",
    "        while True:\n",
    "            line = f.readline()\n",
    "            if not line:\n",
    "                break\n",
    "            data = line.split(',')\n",
    "            yield (data[1],data[2])"
   ]
  },
  {
   "cell_type": "code",
   "execution_count": 18,
   "metadata": {},
   "outputs": [],
   "source": [
    "f = read_lat_and_lon_by_line(filename)"
   ]
  },
  {
   "cell_type": "code",
   "execution_count": 19,
   "metadata": {},
   "outputs": [
    {
     "data": {
      "text/plain": [
       "<generator object read_lat_and_lon_by_line at 0x70ff080c9740>"
      ]
     },
     "execution_count": 19,
     "metadata": {},
     "output_type": "execute_result"
    }
   ],
   "source": [
    "f"
   ]
  },
  {
   "cell_type": "code",
   "execution_count": 20,
   "metadata": {
    "scrolled": false
   },
   "outputs": [
    {
     "name": "stdout",
     "output_type": "stream",
     "text": [
      "('\"Latitude\"', '\"Longitude\"')\n",
      "('\"504719750\"', '\"-998493490\"')\n",
      "('\"504717676\"', '\"-998501870\"')\n",
      "('\"504716354\"', '\"-998506792\"')\n",
      "('\"504714055\"', '\"-998515244\"')\n"
     ]
    }
   ],
   "source": [
    "count = 0\n",
    "for i in read_lat_and_lon_by_line(filename):\n",
    "    count = count+1\n",
    "    if count > 5:\n",
    "        break\n",
    "    print(i)"
   ]
  },
  {
   "cell_type": "markdown",
   "metadata": {},
   "source": [
    "Let's get rid of the first line (the header line):"
   ]
  },
  {
   "cell_type": "code",
   "execution_count": 21,
   "metadata": {},
   "outputs": [
    {
     "ename": "SyntaxError",
     "evalue": "invalid syntax (855364294.py, line 6)",
     "output_type": "error",
     "traceback": [
      "\u001b[0;36m  Cell \u001b[0;32mIn[21], line 6\u001b[0;36m\u001b[0m\n\u001b[0;31m    if first\u001b[0m\n\u001b[0m            ^\u001b[0m\n\u001b[0;31mSyntaxError\u001b[0m\u001b[0;31m:\u001b[0m invalid syntax\n"
     ]
    }
   ],
   "source": [
    "def read_lat_and_lon_by_line(filename):\n",
    "    with open(filename) as f:\n",
    "        first = True\n",
    "        while True:\n",
    "            line = f.readline()\n",
    "            if first\n",
    "                line = f.readline()\n",
    "                first = False\n",
    "            if not line:\n",
    "                break\n",
    "            data = line.split(',')\n",
    "            yield (data[1],data[2])"
   ]
  },
  {
   "cell_type": "code",
   "execution_count": 22,
   "metadata": {},
   "outputs": [],
   "source": [
    "def read_lat_and_lon_by_line(filename):\n",
    "    with open(filename) as f:\n",
    "        first = True\n",
    "        while True:\n",
    "            line = f.readline()\n",
    "            if first:\n",
    "                line = f.readline()\n",
    "                first = False\n",
    "            if not line:\n",
    "                break\n",
    "            data = line.split(',')\n",
    "            yield (data[1],data[2])"
   ]
  },
  {
   "cell_type": "code",
   "execution_count": 23,
   "metadata": {},
   "outputs": [
    {
     "name": "stdout",
     "output_type": "stream",
     "text": [
      "('\"504719750\"', '\"-998493490\"')\n",
      "('\"504717676\"', '\"-998501870\"')\n",
      "('\"504716354\"', '\"-998506792\"')\n",
      "('\"504714055\"', '\"-998515244\"')\n",
      "('\"504711900\"', '\"-998523278\"')\n"
     ]
    }
   ],
   "source": [
    "count = 0\n",
    "for i in read_lat_and_lon_by_line(filename):\n",
    "    count = count+1\n",
    "    if count > 5:\n",
    "        break\n",
    "    print(i)"
   ]
  },
  {
   "cell_type": "code",
   "execution_count": 24,
   "metadata": {},
   "outputs": [
    {
     "data": {
      "text/plain": [
       "<generator object <genexpr> at 0x70ff080c9c10>"
      ]
     },
     "execution_count": 24,
     "metadata": {},
     "output_type": "execute_result"
    }
   ],
   "source": [
    "((lat,lon) for (lat,lon) in read_lat_and_lon_by_line(filename) if lon < -998493490 )"
   ]
  },
  {
   "cell_type": "code",
   "execution_count": 25,
   "metadata": {},
   "outputs": [],
   "source": [
    "import csv\n",
    "def read_lat_and_lon_with_reader(filename):\n",
    "    with open(filename, 'r') as csvfile:\n",
    "        csvreader = csv.DictReader(csvfile)\n",
    "        for row in csvreader:\n",
    "            yield (int(row['Latitude']),int(row['Longitude']))\n",
    "        \n",
    "    "
   ]
  },
  {
   "cell_type": "code",
   "execution_count": 26,
   "metadata": {},
   "outputs": [],
   "source": [
    "g = ((lat,lon) for (lat,lon) in read_lat_and_lon_with_reader(filename) if lon < -998493490 )"
   ]
  },
  {
   "cell_type": "code",
   "execution_count": 27,
   "metadata": {},
   "outputs": [
    {
     "name": "stdout",
     "output_type": "stream",
     "text": [
      "(504717676, -998501870)\n",
      "(504716354, -998506792)\n",
      "(504714055, -998515244)\n",
      "(504711900, -998523278)\n",
      "(504709729, -998531192)\n",
      "(504707299, -998540018)\n",
      "(504705967, -998544934)\n",
      "(504703695, -998553170)\n",
      "(504701326, -998561924)\n",
      "(504700547, -998564668)\n",
      "(504698641, -998571568)\n",
      "(504696909, -998577942)\n",
      "(504695977, -998581247)\n",
      "(504695051, -998584562)\n",
      "(504692926, -998592970)\n",
      "(504692111, -998597619)\n",
      "(504691299, -998606407)\n",
      "(504691173, -998612263)\n",
      "(504690996, -998620769)\n",
      "(504690902, -998629455)\n",
      "(504690919, -998630192)\n",
      "(504690924, -998630680)\n",
      "(504691253, -998633926)\n",
      "(504691172, -998633950)\n",
      "(504684780, -998633605)\n",
      "(504677722, -998633704)\n",
      "(504675542, -998633688)\n",
      "(504673200, -998633697)\n",
      "(504666467, -998633752)\n",
      "(504665599, -998633751)\n",
      "(504661165, -998633676)\n",
      "(504656517, -998633739)\n",
      "(504653635, -998633704)\n",
      "(504646885, -998633610)\n",
      "(504645873, -998633596)\n",
      "(504638364, -998633928)\n",
      "(504636279, -998634532)\n",
      "(504635317, -998635011)\n",
      "(504631201, -998637323)\n",
      "(504630451, -998638943)\n",
      "(504630652, -998641677)\n",
      "(504630408, -998643369)\n",
      "(504630203, -998644131)\n",
      "(504629659, -998645557)\n",
      "(504627046, -998648458)\n",
      "(504626088, -998648999)\n",
      "(504625585, -998649172)\n",
      "(504624528, -998649402)\n",
      "(504623425, -998649372)\n",
      "(504618911, -998648141)\n",
      "(504617469, -998648256)\n",
      "(504616089, -998648760)\n",
      "(504614850, -998649629)\n",
      "(504613462, -998651542)\n",
      "(504612723, -998653576)\n",
      "(504612491, -998654944)\n",
      "(504611674, -998658568)\n",
      "(504610818, -998659191)\n",
      "(504609895, -998659600)\n",
      "(504607616, -998660706)\n",
      "(504607388, -998663713)\n",
      "(504606997, -998666603)\n",
      "(504605105, -998672534)\n",
      "(504601240, -998678138)\n",
      "(504595830, -998683008)\n",
      "(504595132, -998683746)\n",
      "(504590399, -998690509)\n",
      "(504587816, -998696975)\n",
      "(504587080, -998706208)\n",
      "(504587179, -998715339)\n",
      "(504587265, -998719519)\n",
      "(504587183, -998720352)\n",
      "(504586969, -998723936)\n",
      "(504586735, -998727648)\n",
      "(504586387, -998729178)\n",
      "(504585370, -998729769)\n",
      "(504582781, -998730391)\n",
      "(504580448, -998730710)\n",
      "(504576978, -998731285)\n",
      "(504574238, -998731748)\n",
      "(504573319, -998731886)\n",
      "(504566977, -998732447)\n",
      "(504565203, -998731969)\n",
      "(504563563, -998730988)\n",
      "(504560644, -998728699)\n",
      "(504555981, -998724473)\n",
      "(504554045, -998723629)\n",
      "(504553554, -998723542)\n",
      "(504551574, -998723663)\n",
      "(504548714, -998724973)\n",
      "(504548108, -998725456)\n",
      "(504546852, -998726669)\n",
      "(504545724, -998728332)\n",
      "(504545232, -998729335)\n",
      "(504544566, -998731564)\n",
      "(504544377, -998732752)\n",
      "(504544217, -998735213)\n",
      "(504544356, -998742165)\n",
      "(504544234, -998751359)\n",
      "(504544309, -998759543)\n",
      "(504544101, -998768597)\n",
      "(504544041, -998771592)\n",
      "(504544025, -998776724)\n",
      "(504544333, -998784923)\n",
      "(504544341, -998794192)\n",
      "(504544427, -998799444)\n",
      "(504544983, -998802253)\n",
      "(504544879, -998805355)\n",
      "(504543998, -998810071)\n",
      "(504543872, -998812354)\n",
      "(504544678, -998815462)\n",
      "(504542426, -998816004)\n",
      "(504541043, -998816334)\n",
      "(504539288, -998816793)\n",
      "(504537290, -998817243)\n",
      "(504536270, -998817589)\n",
      "(504535254, -998818083)\n",
      "(504534198, -998818683)\n",
      "(504531988, -998819812)\n",
      "(504527193, -998820953)\n",
      "(504524817, -998821169)\n",
      "(504520598, -998820403)\n",
      "(504518779, -998819650)\n",
      "(504515846, -998818587)\n",
      "(504514719, -998818352)\n",
      "(504513882, -998818747)\n",
      "(504513013, -998819685)\n",
      "(504510857, -998822649)\n",
      "(504509650, -998824375)\n",
      "(504509157, -998825402)\n",
      "(504508779, -998826550)\n",
      "(504508485, -998827806)\n",
      "(504508183, -998829191)\n",
      "(504507882, -998830663)\n",
      "(504507635, -998832227)\n",
      "(504507385, -998835385)\n",
      "(504507323, -998836862)\n",
      "(504507179, -998846416)\n",
      "(504507131, -998847659)\n",
      "(504507059, -998856665)\n",
      "(504506827, -998864665)\n",
      "(504506509, -998871147)\n",
      "(504506442, -998874137)\n",
      "(504506533, -998878213)\n",
      "(504506401, -998882060)\n",
      "(504506099, -998890767)\n",
      "(504505826, -998899659)\n",
      "(504505923, -998905530)\n",
      "(504505836, -998913680)\n",
      "(504506079, -998916193)\n",
      "(504506133, -998916968)\n",
      "(504506220, -998919172)\n",
      "(504506229, -998919896)\n",
      "(504506070, -998921937)\n",
      "(504505898, -998923284)\n",
      "(504505768, -998925991)\n",
      "(504505667, -998929485)\n",
      "(504505405, -998936042)\n",
      "(504505258, -998936773)\n",
      "(504503680, -998942456)\n",
      "(504502704, -998946170)\n",
      "(504501817, -998951141)\n",
      "(504501335, -998954849)\n",
      "(504500727, -998961059)\n",
      "(504499739, -998965321)\n",
      "(504499599, -998968172)\n",
      "(504499297, -998969496)\n",
      "(504498760, -998970527)\n",
      "(504497999, -998971490)\n",
      "(504496138, -998976217)\n",
      "(504493350, -998983027)\n",
      "(504491622, -998986958)\n",
      "(504490695, -998988979)\n",
      "(504487074, -998996383)\n",
      "(504485781, -998998855)\n",
      "(504483710, -999001310)\n",
      "(504480227, -999004536)\n",
      "(504478789, -999005562)\n",
      "(504477325, -999006359)\n",
      "(504474132, -999007661)\n",
      "(504471957, -999008250)\n",
      "(504469812, -999008505)\n",
      "(504468125, -999008574)\n",
      "(504466550, -999008347)\n",
      "(504465209, -999008140)\n",
      "(504464054, -999008083)\n",
      "(504462371, -999007968)\n",
      "(504460519, -999007568)\n",
      "(504458080, -999007078)\n",
      "(504457520, -999007079)\n",
      "(504455689, -999006455)\n",
      "(504449175, -999005828)\n",
      "(504447179, -999005722)\n",
      "(504444954, -999005667)\n",
      "(504443214, -999006014)\n",
      "(504441051, -999005821)\n",
      "(504439082, -999005422)\n",
      "(504437717, -999005994)\n",
      "(504437277, -999007182)\n",
      "(504437248, -999009066)\n",
      "(504437192, -999011100)\n",
      "(504436922, -999017878)\n",
      "(504433602, -999024353)\n",
      "(504427084, -999024293)\n",
      "(504425267, -999024438)\n",
      "(504424849, -999025357)\n",
      "(504424585, -999034494)\n",
      "(504424584, -999038416)\n",
      "(504424374, -999047484)\n",
      "(504424487, -999051230)\n",
      "(504425416, -999051046)\n",
      "(504425984, -999050165)\n",
      "(504426837, -999050457)\n"
     ]
    }
   ],
   "source": [
    "for r in g:\n",
    "    print(r)"
   ]
  },
  {
   "cell_type": "markdown",
   "metadata": {},
   "source": [
    "Next: debugging with print() statements"
   ]
  },
  {
   "cell_type": "markdown",
   "metadata": {},
   "source": [
    "For example, let's say there's some bad data in the data file.\n",
    "\n"
   ]
  },
  {
   "cell_type": "markdown",
   "metadata": {},
   "source": [
    "Understanding error stacks"
   ]
  },
  {
   "cell_type": "markdown",
   "metadata": {},
   "source": [
    "Passing reference to pdb, set_trace"
   ]
  },
  {
   "cell_type": "markdown",
   "metadata": {},
   "source": [
    "PixieDebugger?"
   ]
  },
  {
   "cell_type": "markdown",
   "metadata": {},
   "source": [
    "## Copy-and-paste errors\n",
    "\n",
    "From https://datascienceplus.com/how-to-achieve-parallel-processing-in-python-programming/\n",
    "\n",
    "Copy \n",
    "```\n",
    "import multiprocessing as multip\n",
    "print(“Total number of processors on your machine is: ”, multip.cpu_count())\n",
    "```\n",
    "\n",
    "What's wrong?"
   ]
  },
  {
   "cell_type": "code",
   "execution_count": null,
   "metadata": {},
   "outputs": [],
   "source": []
  }
 ],
 "metadata": {
  "kernelspec": {
   "display_name": "Python 3 (ipykernel)",
   "language": "python",
   "name": "python3"
  },
  "language_info": {
   "codemirror_mode": {
    "name": "ipython",
    "version": 3
   },
   "file_extension": ".py",
   "mimetype": "text/x-python",
   "name": "python",
   "nbconvert_exporter": "python",
   "pygments_lexer": "ipython3",
   "version": "3.9.13"
  }
 },
 "nbformat": 4,
 "nbformat_minor": 2
}
