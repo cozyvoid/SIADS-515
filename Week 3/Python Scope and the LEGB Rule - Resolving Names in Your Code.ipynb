{
 "cells": [
  {
   "cell_type": "markdown",
   "metadata": {},
   "source": [
    "Python Scope & the LEGB Rule: Resolving Names in Your Code"
   ]
  },
  {
   "cell_type": "markdown",
   "metadata": {},
   "source": [
    "Understanding Scope\n",
    "Scope: Defines the visibility and lifetime of a variable or function within a program. Scopes help avoid naming conflicts and control the accessibility of variables.\n",
    "\n",
    "Namespace: A mapping from names to objects. It acts like a container where names are stored and associated with objects. Each scope has its own namespace."
   ]
  },
  {
   "cell_type": "markdown",
   "metadata": {},
   "source": [
    "Types of Scopes\n",
    "Local Scope (L):\n",
    "\n",
    "Variables defined within a function.\n",
    "\n",
    "Created when the function is called and destroyed when the function exits.\n",
    "\n",
    "Example:"
   ]
  },
  {
   "cell_type": "code",
   "execution_count": null,
   "metadata": {},
   "outputs": [],
   "source": [
    "def my_function():\n",
    "    x = 10  # Local variable\n",
    "    print(x)"
   ]
  },
  {
   "cell_type": "markdown",
   "metadata": {},
   "source": [
    "Note: Local variables are only accessible within the function they are defined in."
   ]
  },
  {
   "cell_type": "markdown",
   "metadata": {},
   "source": [
    "Enclosing Scope (E):\n",
    "\n",
    "Encompasses any enclosing functions within nested functions.\n",
    "\n",
    "If a function is defined inside another function, the outer function’s variables are in the enclosing scope.\n",
    "\n",
    "Example:"
   ]
  },
  {
   "cell_type": "code",
   "execution_count": null,
   "metadata": {},
   "outputs": [],
   "source": [
    "def outer_function():\n",
    "    x = 10  # Enclosing variable\n",
    "    def inner_function():\n",
    "        print(x)  # Accessing the enclosing variable\n",
    "    inner_function()"
   ]
  },
  {
   "cell_type": "markdown",
   "metadata": {},
   "source": [
    "Global Scope (G):\n",
    "\n",
    "Variables defined at the top level of a module or script.\n",
    "\n",
    "Accessible throughout the module or script unless shadowed by local variables.\n",
    "\n",
    "Example:"
   ]
  },
  {
   "cell_type": "code",
   "execution_count": null,
   "metadata": {},
   "outputs": [],
   "source": [
    "x = 10  # Global variable\n",
    "def my_function():\n",
    "    print(x)  # Accessing the global variable"
   ]
  },
  {
   "cell_type": "markdown",
   "metadata": {},
   "source": [
    "Built-in Scope (B):\n",
    "\n",
    "Contains Python’s built-in functions and variables.\n",
    "\n",
    "Always available, such as len(), sum(), range(), etc.\n",
    "\n",
    "Example:"
   ]
  },
  {
   "cell_type": "code",
   "execution_count": null,
   "metadata": {},
   "outputs": [],
   "source": [
    "print(len([1, 2, 3]))  # Using the built-in function len()"
   ]
  },
  {
   "cell_type": "markdown",
   "metadata": {},
   "source": [
    "The LEGB Rule\n",
    "LEGB Rule: Python resolves names by looking up their values in the following order:\n",
    "\n",
    "Local\n",
    "\n",
    "Enclosing\n",
    "\n",
    "Global\n",
    "\n",
    "Built-in"
   ]
  },
  {
   "cell_type": "markdown",
   "metadata": {},
   "source": [
    "Examples of LEGB Rule\n",
    "Local Scope:"
   ]
  },
  {
   "cell_type": "code",
   "execution_count": null,
   "metadata": {},
   "outputs": [],
   "source": [
    "def my_function():\n",
    "    local_var = 5\n",
    "    print(local_var)  # Output: 5\n",
    "my_function()"
   ]
  },
  {
   "cell_type": "markdown",
   "metadata": {},
   "source": [
    "Enclosing Scope:"
   ]
  },
  {
   "cell_type": "code",
   "execution_count": null,
   "metadata": {},
   "outputs": [],
   "source": [
    "def outer():\n",
    "    enclosing_var = 10\n",
    "    def inner():\n",
    "        print(enclosing_var)  # Output: 10\n",
    "    inner()\n",
    "outer()"
   ]
  },
  {
   "cell_type": "markdown",
   "metadata": {},
   "source": [
    "Global Scope:"
   ]
  },
  {
   "cell_type": "code",
   "execution_count": null,
   "metadata": {},
   "outputs": [],
   "source": [
    "global_var = 20\n",
    "def my_function():\n",
    "    print(global_var)  # Output: 20\n",
    "my_function()"
   ]
  },
  {
   "cell_type": "markdown",
   "metadata": {},
   "source": [
    "Built-in Scope:"
   ]
  },
  {
   "cell_type": "code",
   "execution_count": null,
   "metadata": {},
   "outputs": [],
   "source": [
    "def my_function():\n",
    "    print(len([1, 2, 3]))  # Output: 3\n",
    "my_function()"
   ]
  },
  {
   "cell_type": "markdown",
   "metadata": {},
   "source": [
    "Modifying Scope\n",
    "global Statement:\n",
    "\n",
    "Used to modify global variables inside a function.\n",
    "\n",
    "Example:"
   ]
  },
  {
   "cell_type": "code",
   "execution_count": null,
   "metadata": {},
   "outputs": [],
   "source": [
    "x = 5\n",
    "def modify_global():\n",
    "    global x\n",
    "    x = 10\n",
    "modify_global()\n",
    "print(x)  # Output: 10"
   ]
  },
  {
   "cell_type": "markdown",
   "metadata": {},
   "source": [
    "nonlocal Statement:\n",
    "\n",
    "Used to modify variables in the enclosing (non-global) scope.\n",
    "\n",
    "Example:"
   ]
  },
  {
   "cell_type": "code",
   "execution_count": null,
   "metadata": {},
   "outputs": [],
   "source": [
    "def outer():\n",
    "    x = 5\n",
    "    def inner():\n",
    "        nonlocal x\n",
    "        x = 10\n",
    "    inner()\n",
    "    print(x)  # Output: 10\n",
    "outer()"
   ]
  },
  {
   "cell_type": "markdown",
   "metadata": {},
   "source": [
    "Scope-Related Tools\n",
    "globals(): Returns a dictionary representing the current global symbol table.\n",
    "\n",
    "Example:"
   ]
  },
  {
   "cell_type": "code",
   "execution_count": null,
   "metadata": {},
   "outputs": [],
   "source": [
    "print(globals())"
   ]
  },
  {
   "cell_type": "markdown",
   "metadata": {},
   "source": [
    "locals(): Returns a dictionary representing the current local symbol table.\n",
    "\n",
    "Example:"
   ]
  },
  {
   "cell_type": "code",
   "execution_count": null,
   "metadata": {},
   "outputs": [],
   "source": [
    "def my_function():\n",
    "    local_var = 5\n",
    "    print(locals())\n",
    "my_function()"
   ]
  },
  {
   "cell_type": "markdown",
   "metadata": {},
   "source": [
    "vars(): Returns the __dict__ attribute for a module, class, instance, or any other object with a __dict__ attribute.\n",
    "\n",
    "Example:"
   ]
  },
  {
   "cell_type": "code",
   "execution_count": null,
   "metadata": {},
   "outputs": [],
   "source": [
    "class MyClass:\n",
    "    def __init__(self, value):\n",
    "        self.value = value\n",
    "obj = MyClass(10)\n",
    "print(vars(obj))"
   ]
  },
  {
   "cell_type": "markdown",
   "metadata": {},
   "source": [
    "Practical Tips:\n",
    "\n",
    "    > Avoiding Name Collisions: Use unique names for variables and functions to prevent conflicts, especially in nested scopes.\n",
    "    > Understanding Scope for Debugging: Knowing the scope of variables helps in identifying where variables are defined and accessed, which is crucial for debugging."
   ]
  }
 ],
 "metadata": {
  "language_info": {
   "name": "python"
  }
 },
 "nbformat": 4,
 "nbformat_minor": 2
}
