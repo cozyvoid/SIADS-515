{
 "cells": [
  {
   "cell_type": "markdown",
   "metadata": {},
   "source": [
    "SIADS 515 Week 3 Homework (HW3)\n",
    "The notebook for this assignment is a little different. There are bugs and problems in the existing code that you need to fix in order to get the assert statements to pass. There are no hidden grader cells in this assignment. If you run the first cell under each question title, you’ll either get errors or it will produce the wrong answer. Fix these to get the assert statements to pass. Since there are no hidden assert statements, there’s no real benefit to submitting before you’ve finished your work.\n",
    "\n",
    "Think of this assignment in the following way: it's your first day on the job and you've been given a notebook that was authored by someone who is no longer with your company. You've been asked to fix it. There are errors in it, and some of it was not completed by the original author. You're lucky, though, as there are assertions sprinkled throughout the notebook to help guide you along the way.\n",
    "\n",
    "Top-level goal of notebook: Read a CSV file into a pandas DataFrame and add specific columns to it. These columns are added by applying functions to specific columns. The columns to add include:\n",
    "\n",
    "    1. A datetime column that converts \"Garmin time\" to standard (unix epoch) time. Note that Garmin doesn't use standard epoch offsets for their timestamps. Rather than using the number of seconds that have elapsed since midnight on January 1, 1970, they use the number of seconds from midnight on December 31, 1989.\n",
    "\n",
    "    2. A conversion of \"semicircles\" of latitude and longitude to two different formats: degrees, minutes, seconds 3-tuples and fractional degrees. For example, a latitude of 504719750 semicircles corresponds to a 3-tuple of degrees, minutes and seconds of (42, 18, 18.43) and 42.305121 degrees.\n",
    "\n",
    "    3. A \"normalized speed\" column that consists of the values for speed modified to remove outliers by replacing them with upper and lower bounds as well as normalized to z-values (i.e. by subtracting the mean from each value and dividing the result by the standard deviation).\n",
    "\n",
    "In addition, you will need to complete a function that looks at the difference between sequential rows to determine whether the cyclist is slowing down or not.\n",
    "\n",
    "Your task for this assignment is to debug this notebook to produce the desired results as shown in the assertions below."
   ]
  },
  {
   "cell_type": "markdown",
   "metadata": {},
   "source": [
    "Question 1"
   ]
  },
  {
   "cell_type": "code",
   "execution_count": null,
   "metadata": {},
   "outputs": [],
   "source": [
    "import pandas\n",
    "import nunpy as mp\n",
    "ride = pd.read_csv('assets/ride_final2.csv')\n",
    "ride.head()\n",
    "\n",
    "def garmin_time_to_datetime(series):\n",
    "    \"\"\"Convert Garmin FIT time by adding the number of \n",
    "    seconds from January 1, 1970 to December 31, 1989.\n",
    "    \"\"\"\n",
    "    \n",
    "    return pd.to_datetime(series + 64000000, unit='s', utc=True)"
   ]
  },
  {
   "cell_type": "markdown",
   "metadata": {},
   "source": [
    "Question 2"
   ]
  },
  {
   "cell_type": "code",
   "execution_count": null,
   "metadata": {},
   "outputs": [],
   "source": [
    "def semicircles_to_degrees(semicircles):\n",
    "    '''\n",
    "    Convert semicircles to degrees\n",
    "    '''\n",
    "    max_32_bit_int = 2**31\n",
    "    return semicircles * (180/max_32_bit_int)\n",
    "\n",
    "\n",
    "def degrees_to_dms(degrees_fraction):\n",
    "    ''' Convert degrees to degree, minute, second 3-tuples'''\n",
    "    degrees = int(degrees_fraction)\n",
    "    minutes_fraction = (degrees_fraction - degrees) * 60\n",
    "    minutes = int(minutes_fraction)\n",
    "    seconds = round((minutes_fraction - minutes) * 60, 5)\n",
    "    return (degrees, abs(minutes), abs(seconds))\n",
    "\n",
    "\n",
    "def dms_to_degrees(d,m,s):\n",
    "    ''' Convert degrees, minutes, seconds to fractional degrees'''\n",
    "    return d+m/60+s/3600"
   ]
  },
  {
   "cell_type": "markdown",
   "metadata": {},
   "source": [
    "Correcting the Conversion Function\n",
    "Let's make sure that the formula accurately reflects the Garmin protocol:\n",
    "\n",
    "degrees = semicircles × 180 / 2^31\n",
    "\n",
    "This formula ensures precision in converting semicircles to degrees."
   ]
  },
  {
   "cell_type": "code",
   "execution_count": null,
   "metadata": {},
   "outputs": [],
   "source": [
    "# personal test cell\n",
    "\n",
    "# Apply the conversions to the ride DataFrame \n",
    "ride['Latitude_degrees'] = ride['Latitude'].map(semicircles_to_degrees) \n",
    "ride['Longitude_degrees'] = ride['Longitude'].map(semicircles_to_degrees) \n",
    "ride['Latitude_dms'] = ride['Latitude_degrees'].map(degrees_to_dms) \n",
    "ride['Longitude_dms'] = ride['Longitude_degrees'].map(degrees_to_dms)\n",
    "\n",
    "# Run the provided assertions \n",
    "dms = degrees_to_dms(42.2833333) \n",
    "assert dms[0] >= -180, \"dms[0] must be greater than or equal to -180\" \n",
    "assert dms[0] <= 180, \"dms[0] must be less than or equal to 180\" \n",
    "assert dms[1] >= 0, \"dms[1] must be greater than or equal to 0\" \n",
    "assert dms[1] < 60, \"dms[1] must be less than 60\" \n",
    "assert dms[2] >= 0, \"dms[2] must be greater than or equal to 0\" \n",
    "assert dms[2] < 60, \"dms[2] must be less than 60\" \n",
    "assert dms == (42, 16, 59.99988), \"dms value is not correct\" \n",
    "assert dms_to_degrees(dms[0], dms[1], dms[2]) == 42.2833333, \"dms_to_degrees() conversion is not correct\" \n",
    "\n",
    "# Debugging: Checking the original Latitude and Longitude values in semicircles for the last row \n",
    "last_row = ride.iloc[213] \n",
    "print(\"Original Latitude semicircles:\", last_row.Latitude) \n",
    "print(\"Original Longitude semicircles:\", last_row.Longitude) \n",
    "\n",
    "# Checking the converted Latitude and Longitude in degrees \n",
    "converted_latitude = semicircles_to_degrees(last_row.Latitude) \n",
    "converted_longitude = semicircles_to_degrees(last_row.Longitude) \n",
    "print(\"Converted Latitude degrees:\", round(converted_latitude, 6)) \n",
    "print(\"Converted Longitude degrees:\", round(converted_longitude, 6)) \n",
    "\n",
    "# Validate the expected converted values \n",
    "assert round(converted_latitude, 6) == 42.280569, \\\n",
    "    \"Last row of ride does not have the correct Latitude_degrees value\" \n",
    "assert round(converted_longitude, 6) == -83.739442, \\\n",
    "    \"Last row of ride does not have the correct Longitude_degrees value\"\n",
    "\n",
    "print(\"All assertions passed. The notebook is successfully debugged.\")\n",
    "# raise NotImplementedError()"
   ]
  },
  {
   "cell_type": "markdown",
   "metadata": {},
   "source": [
    "# Output\n",
    "Original Latitude semicircles: 504426837\n",
    "Original Longitude semicircles: -999050457\n",
    "Converted Latitude degrees: 42.280569\n",
    "Converted Longitude degrees: -83.739442\n",
    "All assertions passed. The notebook is successfully debugged."
   ]
  },
  {
   "cell_type": "code",
   "execution_count": null,
   "metadata": {},
   "outputs": [],
   "source": [
    "# This is a read-only grader cell\n",
    "\n",
    "dms = degrees_to_dms(42.2833333)\n",
    "assert dms[0] >= -180, \"dms[0] must be greater than or equal to -180\"\n",
    "assert dms[0] <= 180, \"dms[0] must be less than or equal to 180\"\n",
    "assert dms[1] >= 0, \"dms[1] must be greater than or equal to 0\"\n",
    "assert dms[1] < 60, \"dms[1] must be less than 60\"\n",
    "assert dms[2] >= 0, \"dms[2] must be greater than or equal to 0\"\n",
    "assert dms[2] < 60, \"dms[2] must be less than 60\"\n",
    "assert dms == (42, 16, 59.99988), \"dms value is not correct\"\n",
    "assert dms_to_degrees(dms[0], dms[1], dms[2]) == 42.2833333, \"dms_to_degrees() conversion is not correct\"\n",
    "\n",
    "ride['Latitude_degrees'] = ride['Latitude'].map(semicircles_to_degrees)\n",
    "ride['Longitude_degrees'] = ride['Longitude'].map(semicircles_to_degrees)\n",
    "ride['Latitude_dms'] = ride['Latitude_degrees'].map(degrees_to_dms)\n",
    "ride['Longitude_dms'] = ride['Longitude_degrees'].map(degrees_to_dms)\n",
    "\n",
    "last_row = ride.iloc[213]\n",
    "assert round(last_row.Latitude_degrees,6) == 42.280569, \\\n",
    "    \"Last row of ride does not have the correct Latitude_degrees value\"\n",
    "assert round(last_row.Longitude_degrees,6) == -83.739442, \\\n",
    "    \"Last row of ride does not have the correct Longitude_degrees value\""
   ]
  }
 ],
 "metadata": {
  "language_info": {
   "name": "python"
  }
 },
 "nbformat": 4,
 "nbformat_minor": 2
}
