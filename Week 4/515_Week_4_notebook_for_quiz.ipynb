{
 "cells": [
  {
   "cell_type": "markdown",
   "metadata": {},
   "source": [
    "# SIADS 515 Week 4 Homework"
   ]
  },
  {
   "cell_type": "markdown",
   "metadata": {},
   "source": [
    "## Background\n",
    "This assignment uses is uses the same codebase as the previous one, however this \n",
    "assignment focuses on improving efficiency rather than fixing bugs.  Some of the background material is recreated below.\n",
    "\n",
    "The motivation for this assignment is to **improve the efficiency of code** that finds the similarity between any two given documents.  There are many ways to calculate similarity (or distance) between two documents, but the most effective way is to represent each document as a multi-dimensional vector where each dimension corresponds to a word, and the value along that dimension is the number of times that word occurs in a document.  Let's take a look at a simplified case where we only have two dimensions:\n",
    "\n",
    "![](assets/CosineDistanceSimilarity.png)\n",
    "\n",
    "In the above diagram, Item 1 and Item 2 refer to two documents.  The angle between them (𝛳) can range from -180 to +180 degrees.  The cosine of angles, in this case, has a nice property in that the cosine of an angle of 0 degrees is 1, the cosine of an angle of 90 degrees is 0, and the cosine of an angle of 180 degrees is -1.  In other words, the cosine of the angle between the vector representation of a document behaves much like a correlation coefficient.  A cosine of 1 indicates the documents are identical, a cosine of 0 indicates the documents are independent of each other, and a cosine of -1 indicates the documents are \"opposites\" (note: the latter requires a specific setup that is beyond the scope of this course).\n",
    "\n",
    "Your task, for this assignment, is to improve the efficiency of the code."
   ]
  },
  {
   "cell_type": "code",
   "execution_count": 1,
   "metadata": {},
   "outputs": [],
   "source": [
    "# docdist1.py\n",
    "# Original author: Ronald L. Rivest\n",
    "# Some adaptation by Chris Teplovs and Kevyn Collins-Thompson\n",
    "#\n",
    "#\n",
    "# This program computes the \"distance\" between two text files\n",
    "# as the angle between their word frequency vectors.\n",
    "#\n",
    "# For each input file, a word-frequency vector is computed as follows:\n",
    "#    (1) the specified file is read in\n",
    "#    (2) it is converted into a list of alphanumeric \"words\"\n",
    "#        Here a \"word\" is a sequence of consecutive alphanumeric\n",
    "#        characters.  Non-alphanumeric characters are treated as blanks.\n",
    "#        Case is not significant.\n",
    "#    (3) for each word, its frequency of occurrence is determined\n",
    "#    (4) the word/frequency lists are sorted into order alphabetically\n",
    "#\n",
    "# The \"distance\" between two vectors is the angle between them.\n",
    "# If x = (x1, x2, ..., xn) is the first vector (xi = freq of word i)\n",
    "# and y = (y1, y2, ..., yn) is the second vector,\n",
    "# then the angle between them is defined as:\n",
    "#    d(x,y) = arccos(inner_product(x,y) / (norm(x)*norm(y)))\n",
    "# where:\n",
    "#    inner_product(x,y) = x1*y1 + x2*y2 + ... xn*yn\n",
    "#    norm(x) = sqrt(inner_product(x,x))"
   ]
  },
  {
   "cell_type": "code",
   "execution_count": 2,
   "metadata": {},
   "outputs": [],
   "source": [
    "import math\n",
    "    # math.acos(x) is the arccosine of x.\n",
    "    # math.sqrt(x) is the square root of x.\n",
    "\n",
    "import string\n",
    "    # string.join(words,sep) takes a given list of words,\n",
    "    #    and returns a single string resulting from concatenating them\n",
    "    #    together, separated by the string sep .\n",
    "    # string.lower(word) converts word to lower-case\n",
    "\n",
    "import sys\n",
    "    # sys.exit() allows us to quit (if we can't read a file)"
   ]
  },
  {
   "cell_type": "code",
   "execution_count": 3,
   "metadata": {},
   "outputs": [],
   "source": [
    "##################################\n",
    "# Operation 1: read a text file ##\n",
    "##################################\n",
    "def read_file(filename):\n",
    "    ###    Read the text file with the given filename;\n",
    "    ###     return a list of the lines of text in the file.\n",
    "    try:\n",
    "        fp = open(filename)\n",
    "        L = fp.readlines()\n",
    "    except IOError as excObj:\n",
    "        print(str(excObj))\n",
    "        print(\"Error opening or reading input file: \" + filename)\n",
    "        sys.exit()\n",
    "    return L"
   ]
  },
  {
   "cell_type": "code",
   "execution_count": 4,
   "metadata": {},
   "outputs": [],
   "source": [
    "#################################################\n",
    "# Operation 2: split the text lines into words ##\n",
    "#################################################\n",
    "def get_words_from_line_list(L):\n",
    "    ### Parse the given list L of text lines into words.\n",
    "    ### Return list of all words found.\n",
    "\n",
    "    word_list = []\n",
    "    for line in L:\n",
    "        words_in_line = get_words_from_string(line)\n",
    "        word_list = word_list + words_in_line\n",
    "    return word_list"
   ]
  },
  {
   "cell_type": "code",
   "execution_count": 5,
   "metadata": {},
   "outputs": [],
   "source": [
    "def get_words_from_string(line):\n",
    "    ### Return a list of the words in the given input string,\n",
    "    ### converting each word to lower-case.\n",
    "    ###\n",
    "    ### Input:  line (a string)\n",
    "    ### Output: a list of strings\n",
    "    ###          (each string is a sequence of alphanumeric characters)\n",
    "\n",
    "    word_list = []          # accumulates words in line\n",
    "    character_list = []     # accumulates characters in word\n",
    "    for c in line:\n",
    "        if c.isalnum():\n",
    "            character_list.append(c)\n",
    "        elif len(character_list)>0:\n",
    "            word = str.join(\"\", character_list)\n",
    "            word = str.lower(word)\n",
    "            word_list.append(word)\n",
    "            character_list = []\n",
    "    if len(character_list)>0:\n",
    "        word = str.join(\"\", character_list)\n",
    "        word = str.lower(word)\n",
    "        word_list.append(word)\n",
    "    return word_list"
   ]
  },
  {
   "cell_type": "code",
   "execution_count": 6,
   "metadata": {},
   "outputs": [],
   "source": [
    "##############################################\n",
    "# Operation 3: count frequency of each word ##\n",
    "##############################################\n",
    "def count_frequency(word_list):\n",
    "    ### Return a list giving pairs of form: (word,frequency)\n",
    "\n",
    "    L = []\n",
    "    for new_word in word_list:\n",
    "        for entry in L:\n",
    "            if new_word == entry[0]:\n",
    "                entry[1] = entry[1] + 1\n",
    "                break\n",
    "        else:\n",
    "            L.append([new_word,1])\n",
    "    return L"
   ]
  },
  {
   "cell_type": "code",
   "execution_count": 7,
   "metadata": {},
   "outputs": [],
   "source": [
    "###############################################################\n",
    "# Operation 4: sort words into alphabetic order             ###\n",
    "###############################################################\n",
    "def insertion_sort(A):\n",
    "\n",
    "    ### Sort list A into order, in place.\n",
    "    ###\n",
    "    ### From Cormen/Leiserson/Rivest/Stein,\n",
    "    ### Introduction to Algorithms (second edition), page 17,\n",
    "    ### modified to adjust for fact that Python arrays use\n",
    "    ### 0-indexing.\n",
    "\n",
    "    for j in range(len(A)):\n",
    "        key = A[j]\n",
    "        # insert A[j] into sorted sequence A[0..j-1]\n",
    "        i = j-1\n",
    "        while i>-1 and A[i]>key:\n",
    "            A[i+1] = A[i]\n",
    "            i = i-1\n",
    "        A[i+1] = key\n",
    "    return A"
   ]
  },
  {
   "cell_type": "code",
   "execution_count": 8,
   "metadata": {},
   "outputs": [],
   "source": [
    "#############################################\n",
    "## compute word frequencies for input file ##\n",
    "#############################################\n",
    "def word_frequencies_for_file(filename,verbose=False):\n",
    "\n",
    "    ### Return alphabetically sorted list of (word,frequency) pairs\n",
    "    ### for the given file.\n",
    "\n",
    "    line_list = read_file(filename)\n",
    "    word_list = get_words_from_line_list(line_list)\n",
    "    freq_mapping = count_frequency(word_list)\n",
    "    insertion_sort(freq_mapping)\n",
    "    if verbose:\n",
    "        print(\"File\",filename,\":\", len(line_list),\"lines,\", len(word_list),\"words,\", len(freq_mapping),\"distinct words\")\n",
    "\n",
    "    return freq_mapping"
   ]
  },
  {
   "cell_type": "code",
   "execution_count": 9,
   "metadata": {},
   "outputs": [],
   "source": [
    "def inner_product(L1,L2):\n",
    "\n",
    "    ### Inner product between two vectors, where vectors\n",
    "    ### are represented as alphabetically sorted (word,freq) pairs.\n",
    "\n",
    "    ### Example: inner_product([[\"and\",3],[\"of\",2],[\"the\",5]],\n",
    "    ###                        [[\"and\",4],[\"in\",1],[\"of\",1],[\"this\",2]]) = 14.0\n",
    "\n",
    "    sum = 0.0\n",
    "    i = 0\n",
    "    j = 0\n",
    "    while i<len(L1) and j<len(L2):\n",
    "        # L1[i:] and L2[j:] yet to be processed\n",
    "        if L1[i][0] == L2[j][0]:\n",
    "            # both vectors have this word\n",
    "            sum += L1[i][1] * L2[j][1]\n",
    "            i += 1\n",
    "            j += 1\n",
    "        elif L1[i][0] < L2[j][0]:\n",
    "            # word L1[i][0] is in L1 but not L2\n",
    "            i += 1\n",
    "        else:\n",
    "            # word L2[j][0] is in L2 but not L1\n",
    "            j += 1\n",
    "    return sum"
   ]
  },
  {
   "cell_type": "code",
   "execution_count": 10,
   "metadata": {},
   "outputs": [],
   "source": [
    "def vector_angle(L1,L2):\n",
    "\n",
    "    ### The input is a list of (word,freq) pairs, sorted alphabetically.\n",
    "    ### Return the angle between these two vectors.\n",
    "\n",
    "    numerator = inner_product(L1,L2)\n",
    "    denominator = math.sqrt(inner_product(L1,L1)*inner_product(L2,L2))\n",
    "    return numerator/denominator"
   ]
  },
  {
   "cell_type": "code",
   "execution_count": 11,
   "metadata": {},
   "outputs": [],
   "source": [
    "def document_similarity(filename_1, filename_2, verbose=True):\n",
    "    \"\"\"DOCSTRING\"\"\"\n",
    "    sorted_word_list_1 = word_frequencies_for_file(filename_1, verbose)\n",
    "    sorted_word_list_2 = word_frequencies_for_file(filename_2, verbose)\n",
    "    cosine = vector_angle(sorted_word_list_1,sorted_word_list_2)\n",
    "    # Use f-strings; see https://realpython.com/python-f-strings/ for more information\n",
    "    if verbose:\n",
    "        print(f\"The cosine between the documents is {cosine : 0.6f}.\")\n",
    "        print(f\"The angle between the documents is {math.acos(cosine) : 0.6f} radians or {math.acos(cosine)*180/math.pi : .0f} degrees.\")"
   ]
  },
  {
   "cell_type": "code",
   "execution_count": 12,
   "metadata": {},
   "outputs": [
    {
     "name": "stdout",
     "output_type": "stream",
     "text": [
      "File assets/short.t1.txt : 200 lines, 1855 words, 772 distinct words\n",
      "File assets/short.t2.txt : 200 lines, 752 words, 334 distinct words\n",
      "The cosine between the documents is  0.712533.\n",
      "The angle between the documents is  0.777694 radians or  45 degrees.\n"
     ]
    }
   ],
   "source": [
    "document_similarity('assets/short.t1.txt','assets/short.t2.txt')"
   ]
  }
 ],
 "metadata": {
  "kernelspec": {
   "display_name": "Python 3 (ipykernel)",
   "language": "python",
   "name": "python3"
  },
  "language_info": {
   "codemirror_mode": {
    "name": "ipython",
    "version": 3
   },
   "file_extension": ".py",
   "mimetype": "text/x-python",
   "name": "python",
   "nbconvert_exporter": "python",
   "pygments_lexer": "ipython3",
   "version": "3.9.13"
  }
 },
 "nbformat": 4,
 "nbformat_minor": 2
}
